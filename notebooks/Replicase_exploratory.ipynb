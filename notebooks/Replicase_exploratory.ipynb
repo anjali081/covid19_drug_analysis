{
  "nbformat": 4,
  "nbformat_minor": 0,
  "metadata": {
    "colab": {
      "name": "Replicase_exploratory.ipynb",
      "provenance": [],
      "collapsed_sections": []
    },
    "kernelspec": {
      "display_name": "Python 3",
      "language": "python",
      "name": "python3"
    },
    "language_info": {
      "codemirror_mode": {
        "name": "ipython",
        "version": 3
      },
      "file_extension": ".py",
      "mimetype": "text/x-python",
      "name": "python",
      "nbconvert_exporter": "python",
      "pygments_lexer": "ipython3",
      "version": "3.6.12"
    }
  },
  "cells": [
    {
      "cell_type": "markdown",
      "metadata": {
        "id": "l0Y7_lgN4jzM"
      },
      "source": [
        "# Exploratory Data Analysis\n",
        "\n",
        "After the Bioactivity data extraction from the chembl_websource_client exploratory data analysis will be performed.Bioactivity values will be converted to pIC50 values.\n",
        "\n",
        "\n"
      ]
    },
    {
      "cell_type": "markdown",
      "metadata": {
        "id": "QmxXXFa4wTNG"
      },
      "source": [
        "# Importing the required libraries"
      ]
    },
    {
      "cell_type": "code",
      "metadata": {
        "id": "Fpu5C7HlwV9s"
      },
      "source": [
        "import pandas as pd\n",
        "from rdkit import Chem\n",
        "from rdkit.Chem import Descriptors\n",
        "import numpy as np\n",
        "import rdkit"
      ],
      "execution_count": null,
      "outputs": []
    },
    {
      "cell_type": "markdown",
      "metadata": {
        "id": "AF_RQKJM_7yx"
      },
      "source": [
        "# Importing the csv file using pandas "
      ]
    },
    {
      "cell_type": "code",
      "metadata": {
        "id": "GCcE8J5XwjtB"
      },
      "source": [
        "df = pd.read_csv('replicase1.csv')"
      ],
      "execution_count": null,
      "outputs": []
    },
    {
      "cell_type": "markdown",
      "metadata": {
        "id": "k1L8Wkl-_7yx"
      },
      "source": [
        "To check the datatype of columns in the dataframe"
      ]
    },
    {
      "cell_type": "code",
      "metadata": {
        "id": "9dcMB6Ix_7yy",
        "outputId": "0d163fa2-9aaa-4d67-a15c-3200e0ff5f78"
      },
      "source": [
        "df.dtypes"
      ],
      "execution_count": null,
      "outputs": [
        {
          "output_type": "execute_result",
          "data": {
            "text/plain": [
              "canonical_smiles       object\n",
              "molecule_chembl_id     object\n",
              "molecule_pref_name     object\n",
              "standard_type          object\n",
              "standard_units         object\n",
              "standard_value        float64\n",
              "target_chembl_id       object\n",
              "target_organism        object\n",
              "target_pref_name       object\n",
              "type                   object\n",
              "units                  object\n",
              "value                 float64\n",
              "dtype: object"
            ]
          },
          "metadata": {
            "tags": []
          },
          "execution_count": 75
        }
      ]
    },
    {
      "cell_type": "markdown",
      "metadata": {
        "id": "YzN_S4Quro5S"
      },
      "source": [
        "## **Calculating Lipinski descriptors**\n",
        "Christopher Lipinski, a scientist at Pfizer, came up with a set of rule-of-thumb for evaluating the **druglikeness** of compounds. Such druglikeness is based on the Absorption, Distribution, Metabolism and Excretion (ADME) that is also known as the pharmacokinetic profile. Lipinski analyzed all orally active FDA-approved drugs in the formulation of what is to be known as the **Rule-of-Five** or **Lipinski's Rule**.\n",
        "\n",
        "The Lipinski's Rule stated the following:\n",
        "* Molecular weight < 500 Dalton\n",
        "* Octanol-water partition coefficient (LogP) < 5\n",
        "* Hydrogen bond donors < 5\n",
        "* Hydrogen bond acceptors < 10 \n",
        "# We will import the following descriptors from rdkit:\n",
        "* Molecular Weight\n",
        "* ALogP\n",
        "* HBA\n",
        "* HBD\n",
        "* PSA"
      ]
    },
    {
      "cell_type": "code",
      "metadata": {
        "id": "bCXEY7a9ugO_"
      },
      "source": [
        "    moldata= []\n",
        "    for elem in df['canonical_smiles']:\n",
        "        mol=Chem.MolFromSmiles(elem) \n",
        "        moldata.append(mol)\n",
        "    baseData= np.arange(-1,1)\n",
        "    i=0\n",
        "   \n",
        "    \n",
        "    for mol in moldata:        \n",
        "       \n",
        "        desc_MolWt = Descriptors.MolWt(mol)\n",
        "        desc_MolLogP = Descriptors.MolLogP(mol)\n",
        "        desc_HBA = rdkit.Chem.rdMolDescriptors.CalcNumHBA(mol) \n",
        "        desc_HBD=rdkit.Chem.rdMolDescriptors.CalcNumHBD((mol)) \n",
        "        desc_PSA=Descriptors.TPSA(mol)\n",
        "           \n",
        "        row = np.array([desc_MolWt,\n",
        "                        desc_MolLogP,\n",
        "                        desc_HBA,\n",
        "                        desc_HBD,desc_PSA])   \n",
        "    \n",
        "        if(i==0):\n",
        "            baseData=row\n",
        "        else:\n",
        "            baseData=np.vstack([baseData, row])\n",
        "        i=i+1      \n",
        "    \n",
        "    columnNames=[\"MW\",\"LogP\",\"HBA\",\"HBD\",\"PSA\"]   \n",
        "    \n",
        "    \n",
        "  "
      ],
      "execution_count": null,
      "outputs": []
    },
    {
      "cell_type": "markdown",
      "metadata": {
        "id": "gUMlPfFrxicj"
      },
      "source": [
        "# The descriptors imported from rdkit will now be combined into a dataframe\n"
      ]
    },
    {
      "cell_type": "code",
      "metadata": {
        "colab": {
          "base_uri": "https://localhost:8080/",
          "height": 415
        },
        "id": "DaezyM5vwp9n",
        "outputId": "fb750119-b086-4d9d-e9f7-190833e4dc74"
      },
      "source": [
        "descriptors = pd.DataFrame(data=baseData,columns=columnNames)\n",
        "print(descriptors.head())\n"
      ],
      "execution_count": null,
      "outputs": [
        {
          "output_type": "stream",
          "text": [
            "        MW     LogP  HBA  HBD     PSA\n",
            "0  580.682  2.68582  8.0  3.0  156.70\n",
            "1  547.653  1.39862  8.0  4.0  168.73\n",
            "2  581.670  1.59522  8.0  4.0  168.73\n",
            "3  659.781  0.87060  9.0  6.0  201.26\n",
            "4  625.764  0.67400  9.0  6.0  201.26\n"
          ],
          "name": "stdout"
        }
      ]
    },
    {
      "cell_type": "markdown",
      "metadata": {
        "id": "eET6iZ1Aw3oe"
      },
      "source": [
        " # Combining descriptors and bioactivties into a dataframe"
      ]
    },
    {
      "cell_type": "code",
      "metadata": {
        "id": "L9nUZC0Ww3gp"
      },
      "source": [
        "df_combined = pd.concat([df,descriptors], axis=1)"
      ],
      "execution_count": null,
      "outputs": []
    },
    {
      "cell_type": "code",
      "metadata": {
        "colab": {
          "base_uri": "https://localhost:8080/",
          "height": 487
        },
        "id": "FRBfBP3QxFJp",
        "outputId": "18e69e90-6b93-4b8f-fc86-24924f6eb00c"
      },
      "source": [
        "df_combined"
      ],
      "execution_count": null,
      "outputs": [
        {
          "output_type": "execute_result",
          "data": {
            "text/html": [
              "<div>\n",
              "<style scoped>\n",
              "    .dataframe tbody tr th:only-of-type {\n",
              "        vertical-align: middle;\n",
              "    }\n",
              "\n",
              "    .dataframe tbody tr th {\n",
              "        vertical-align: top;\n",
              "    }\n",
              "\n",
              "    .dataframe thead th {\n",
              "        text-align: right;\n",
              "    }\n",
              "</style>\n",
              "<table border=\"1\" class=\"dataframe\">\n",
              "  <thead>\n",
              "    <tr style=\"text-align: right;\">\n",
              "      <th></th>\n",
              "      <th>canonical_smiles</th>\n",
              "      <th>molecule_chembl_id</th>\n",
              "      <th>molecule_pref_name</th>\n",
              "      <th>standard_type</th>\n",
              "      <th>standard_units</th>\n",
              "      <th>standard_value</th>\n",
              "      <th>target_chembl_id</th>\n",
              "      <th>target_organism</th>\n",
              "      <th>target_pref_name</th>\n",
              "      <th>type</th>\n",
              "      <th>units</th>\n",
              "      <th>value</th>\n",
              "      <th>MW</th>\n",
              "      <th>LogP</th>\n",
              "      <th>HBA</th>\n",
              "      <th>HBD</th>\n",
              "      <th>PSA</th>\n",
              "    </tr>\n",
              "  </thead>\n",
              "  <tbody>\n",
              "    <tr>\n",
              "      <th>0</th>\n",
              "      <td>CCOC(=O)/C=C/[C@H](C[C@@H]1CCNC1=O)NC(=O)[C@@H...</td>\n",
              "      <td>CHEMBL194398</td>\n",
              "      <td>NaN</td>\n",
              "      <td>IC50</td>\n",
              "      <td>nM</td>\n",
              "      <td>870000.0</td>\n",
              "      <td>CHEMBL5118</td>\n",
              "      <td>SARS coronavirus</td>\n",
              "      <td>Replicase polyprotein 1ab</td>\n",
              "      <td>IC50</td>\n",
              "      <td>uM</td>\n",
              "      <td>870.0</td>\n",
              "      <td>580.682</td>\n",
              "      <td>2.68582</td>\n",
              "      <td>8.0</td>\n",
              "      <td>3.0</td>\n",
              "      <td>156.70</td>\n",
              "    </tr>\n",
              "    <tr>\n",
              "      <th>1</th>\n",
              "      <td>CCOC(=O)/C=C/[C@H](C[C@@H]1CCNC1=O)NC(=O)[C@H]...</td>\n",
              "      <td>CHEMBL393608</td>\n",
              "      <td>NaN</td>\n",
              "      <td>IC50</td>\n",
              "      <td>nM</td>\n",
              "      <td>200000.0</td>\n",
              "      <td>CHEMBL5118</td>\n",
              "      <td>SARS coronavirus</td>\n",
              "      <td>Replicase polyprotein 1ab</td>\n",
              "      <td>IC50</td>\n",
              "      <td>uM</td>\n",
              "      <td>200.0</td>\n",
              "      <td>547.653</td>\n",
              "      <td>1.39862</td>\n",
              "      <td>8.0</td>\n",
              "      <td>4.0</td>\n",
              "      <td>168.73</td>\n",
              "    </tr>\n",
              "    <tr>\n",
              "      <th>2</th>\n",
              "      <td>CCOC(=O)/C=C/[C@H](C[C@@H]1CCNC1=O)NC(=O)[C@H]...</td>\n",
              "      <td>CHEMBL238216</td>\n",
              "      <td>NaN</td>\n",
              "      <td>IC50</td>\n",
              "      <td>nM</td>\n",
              "      <td>300000.0</td>\n",
              "      <td>CHEMBL5118</td>\n",
              "      <td>SARS coronavirus</td>\n",
              "      <td>Replicase polyprotein 1ab</td>\n",
              "      <td>IC50</td>\n",
              "      <td>uM</td>\n",
              "      <td>300.0</td>\n",
              "      <td>581.670</td>\n",
              "      <td>1.59522</td>\n",
              "      <td>8.0</td>\n",
              "      <td>4.0</td>\n",
              "      <td>168.73</td>\n",
              "    </tr>\n",
              "    <tr>\n",
              "      <th>3</th>\n",
              "      <td>CCOC(=O)/C=C/[C@H](C[C@@H]1CCNC1=O)NC(=O)[C@H]...</td>\n",
              "      <td>CHEMBL235873</td>\n",
              "      <td>NaN</td>\n",
              "      <td>IC50</td>\n",
              "      <td>nM</td>\n",
              "      <td>15000.0</td>\n",
              "      <td>CHEMBL5118</td>\n",
              "      <td>SARS coronavirus</td>\n",
              "      <td>Replicase polyprotein 1ab</td>\n",
              "      <td>IC50</td>\n",
              "      <td>uM</td>\n",
              "      <td>15.0</td>\n",
              "      <td>659.781</td>\n",
              "      <td>0.87060</td>\n",
              "      <td>9.0</td>\n",
              "      <td>6.0</td>\n",
              "      <td>201.26</td>\n",
              "    </tr>\n",
              "    <tr>\n",
              "      <th>4</th>\n",
              "      <td>CCOC(=O)/C=C/[C@H](C[C@@H]1CCNC1=O)NC(=O)[C@H]...</td>\n",
              "      <td>CHEMBL397154</td>\n",
              "      <td>NaN</td>\n",
              "      <td>IC50</td>\n",
              "      <td>nM</td>\n",
              "      <td>10000.0</td>\n",
              "      <td>CHEMBL5118</td>\n",
              "      <td>SARS coronavirus</td>\n",
              "      <td>Replicase polyprotein 1ab</td>\n",
              "      <td>IC50</td>\n",
              "      <td>uM</td>\n",
              "      <td>10.0</td>\n",
              "      <td>625.764</td>\n",
              "      <td>0.67400</td>\n",
              "      <td>9.0</td>\n",
              "      <td>6.0</td>\n",
              "      <td>201.26</td>\n",
              "    </tr>\n",
              "    <tr>\n",
              "      <th>...</th>\n",
              "      <td>...</td>\n",
              "      <td>...</td>\n",
              "      <td>...</td>\n",
              "      <td>...</td>\n",
              "      <td>...</td>\n",
              "      <td>...</td>\n",
              "      <td>...</td>\n",
              "      <td>...</td>\n",
              "      <td>...</td>\n",
              "      <td>...</td>\n",
              "      <td>...</td>\n",
              "      <td>...</td>\n",
              "      <td>...</td>\n",
              "      <td>...</td>\n",
              "      <td>...</td>\n",
              "      <td>...</td>\n",
              "      <td>...</td>\n",
              "    </tr>\n",
              "    <tr>\n",
              "      <th>210</th>\n",
              "      <td>CC(C)C[C@H](NC(=O)OC1(Cc2ccccc2)CCN(S(C)(=O)=O...</td>\n",
              "      <td>CHEMBL4208764</td>\n",
              "      <td>NaN</td>\n",
              "      <td>IC50</td>\n",
              "      <td>nM</td>\n",
              "      <td>4300.0</td>\n",
              "      <td>CHEMBL5118</td>\n",
              "      <td>SARS coronavirus</td>\n",
              "      <td>Replicase polyprotein 1ab</td>\n",
              "      <td>IC50</td>\n",
              "      <td>uM</td>\n",
              "      <td>4.3</td>\n",
              "      <td>668.767</td>\n",
              "      <td>-2.95720</td>\n",
              "      <td>10.0</td>\n",
              "      <td>4.0</td>\n",
              "      <td>211.34</td>\n",
              "    </tr>\n",
              "    <tr>\n",
              "      <th>211</th>\n",
              "      <td>CCC1(OC(=O)N[C@@H](CC(C)C)C(=O)N[C@H](C=O)C[C@...</td>\n",
              "      <td>CHEMBL4212620</td>\n",
              "      <td>NaN</td>\n",
              "      <td>IC50</td>\n",
              "      <td>nM</td>\n",
              "      <td>5500.0</td>\n",
              "      <td>CHEMBL5118</td>\n",
              "      <td>SARS coronavirus</td>\n",
              "      <td>Replicase polyprotein 1ab</td>\n",
              "      <td>IC50</td>\n",
              "      <td>uM</td>\n",
              "      <td>5.5</td>\n",
              "      <td>524.659</td>\n",
              "      <td>2.51690</td>\n",
              "      <td>7.0</td>\n",
              "      <td>3.0</td>\n",
              "      <td>143.14</td>\n",
              "    </tr>\n",
              "    <tr>\n",
              "      <th>212</th>\n",
              "      <td>CCC1(OC(=O)N[C@@H](CC(C)C)C(=O)N[C@@H](C[C@@H]...</td>\n",
              "      <td>CHEMBL4216101</td>\n",
              "      <td>NaN</td>\n",
              "      <td>IC50</td>\n",
              "      <td>nM</td>\n",
              "      <td>4100.0</td>\n",
              "      <td>CHEMBL5118</td>\n",
              "      <td>SARS coronavirus</td>\n",
              "      <td>Replicase polyprotein 1ab</td>\n",
              "      <td>IC50</td>\n",
              "      <td>uM</td>\n",
              "      <td>4.1</td>\n",
              "      <td>628.721</td>\n",
              "      <td>-1.81440</td>\n",
              "      <td>10.0</td>\n",
              "      <td>4.0</td>\n",
              "      <td>203.50</td>\n",
              "    </tr>\n",
              "    <tr>\n",
              "      <th>213</th>\n",
              "      <td>CCOC(=O)N1CCC(OC(=O)N[C@@H](CC(C)C)C(=O)N[C@H]...</td>\n",
              "      <td>CHEMBL4217568</td>\n",
              "      <td>NaN</td>\n",
              "      <td>IC50</td>\n",
              "      <td>nM</td>\n",
              "      <td>3200.0</td>\n",
              "      <td>CHEMBL5118</td>\n",
              "      <td>SARS coronavirus</td>\n",
              "      <td>Replicase polyprotein 1ab</td>\n",
              "      <td>IC50</td>\n",
              "      <td>uM</td>\n",
              "      <td>3.2</td>\n",
              "      <td>468.551</td>\n",
              "      <td>0.95810</td>\n",
              "      <td>7.0</td>\n",
              "      <td>3.0</td>\n",
              "      <td>143.14</td>\n",
              "    </tr>\n",
              "    <tr>\n",
              "      <th>214</th>\n",
              "      <td>CCOC(=O)N1CCC(OC(=O)N[C@@H](CC(C)C)C(=O)N[C@@H...</td>\n",
              "      <td>CHEMBL4204431</td>\n",
              "      <td>NaN</td>\n",
              "      <td>IC50</td>\n",
              "      <td>nM</td>\n",
              "      <td>8800.0</td>\n",
              "      <td>CHEMBL5118</td>\n",
              "      <td>SARS coronavirus</td>\n",
              "      <td>Replicase polyprotein 1ab</td>\n",
              "      <td>IC50</td>\n",
              "      <td>uM</td>\n",
              "      <td>8.8</td>\n",
              "      <td>572.613</td>\n",
              "      <td>-3.37320</td>\n",
              "      <td>10.0</td>\n",
              "      <td>4.0</td>\n",
              "      <td>203.50</td>\n",
              "    </tr>\n",
              "  </tbody>\n",
              "</table>\n",
              "<p>215 rows × 17 columns</p>\n",
              "</div>"
            ],
            "text/plain": [
              "                                      canonical_smiles molecule_chembl_id  \\\n",
              "0    CCOC(=O)/C=C/[C@H](C[C@@H]1CCNC1=O)NC(=O)[C@@H...       CHEMBL194398   \n",
              "1    CCOC(=O)/C=C/[C@H](C[C@@H]1CCNC1=O)NC(=O)[C@H]...       CHEMBL393608   \n",
              "2    CCOC(=O)/C=C/[C@H](C[C@@H]1CCNC1=O)NC(=O)[C@H]...       CHEMBL238216   \n",
              "3    CCOC(=O)/C=C/[C@H](C[C@@H]1CCNC1=O)NC(=O)[C@H]...       CHEMBL235873   \n",
              "4    CCOC(=O)/C=C/[C@H](C[C@@H]1CCNC1=O)NC(=O)[C@H]...       CHEMBL397154   \n",
              "..                                                 ...                ...   \n",
              "210  CC(C)C[C@H](NC(=O)OC1(Cc2ccccc2)CCN(S(C)(=O)=O...      CHEMBL4208764   \n",
              "211  CCC1(OC(=O)N[C@@H](CC(C)C)C(=O)N[C@H](C=O)C[C@...      CHEMBL4212620   \n",
              "212  CCC1(OC(=O)N[C@@H](CC(C)C)C(=O)N[C@@H](C[C@@H]...      CHEMBL4216101   \n",
              "213  CCOC(=O)N1CCC(OC(=O)N[C@@H](CC(C)C)C(=O)N[C@H]...      CHEMBL4217568   \n",
              "214  CCOC(=O)N1CCC(OC(=O)N[C@@H](CC(C)C)C(=O)N[C@@H...      CHEMBL4204431   \n",
              "\n",
              "    molecule_pref_name standard_type standard_units  standard_value  \\\n",
              "0                  NaN          IC50             nM        870000.0   \n",
              "1                  NaN          IC50             nM        200000.0   \n",
              "2                  NaN          IC50             nM        300000.0   \n",
              "3                  NaN          IC50             nM         15000.0   \n",
              "4                  NaN          IC50             nM         10000.0   \n",
              "..                 ...           ...            ...             ...   \n",
              "210                NaN          IC50             nM          4300.0   \n",
              "211                NaN          IC50             nM          5500.0   \n",
              "212                NaN          IC50             nM          4100.0   \n",
              "213                NaN          IC50             nM          3200.0   \n",
              "214                NaN          IC50             nM          8800.0   \n",
              "\n",
              "    target_chembl_id   target_organism           target_pref_name  type units  \\\n",
              "0         CHEMBL5118  SARS coronavirus  Replicase polyprotein 1ab  IC50    uM   \n",
              "1         CHEMBL5118  SARS coronavirus  Replicase polyprotein 1ab  IC50    uM   \n",
              "2         CHEMBL5118  SARS coronavirus  Replicase polyprotein 1ab  IC50    uM   \n",
              "3         CHEMBL5118  SARS coronavirus  Replicase polyprotein 1ab  IC50    uM   \n",
              "4         CHEMBL5118  SARS coronavirus  Replicase polyprotein 1ab  IC50    uM   \n",
              "..               ...               ...                        ...   ...   ...   \n",
              "210       CHEMBL5118  SARS coronavirus  Replicase polyprotein 1ab  IC50    uM   \n",
              "211       CHEMBL5118  SARS coronavirus  Replicase polyprotein 1ab  IC50    uM   \n",
              "212       CHEMBL5118  SARS coronavirus  Replicase polyprotein 1ab  IC50    uM   \n",
              "213       CHEMBL5118  SARS coronavirus  Replicase polyprotein 1ab  IC50    uM   \n",
              "214       CHEMBL5118  SARS coronavirus  Replicase polyprotein 1ab  IC50    uM   \n",
              "\n",
              "     value       MW     LogP   HBA  HBD     PSA  \n",
              "0    870.0  580.682  2.68582   8.0  3.0  156.70  \n",
              "1    200.0  547.653  1.39862   8.0  4.0  168.73  \n",
              "2    300.0  581.670  1.59522   8.0  4.0  168.73  \n",
              "3     15.0  659.781  0.87060   9.0  6.0  201.26  \n",
              "4     10.0  625.764  0.67400   9.0  6.0  201.26  \n",
              "..     ...      ...      ...   ...  ...     ...  \n",
              "210    4.3  668.767 -2.95720  10.0  4.0  211.34  \n",
              "211    5.5  524.659  2.51690   7.0  3.0  143.14  \n",
              "212    4.1  628.721 -1.81440  10.0  4.0  203.50  \n",
              "213    3.2  468.551  0.95810   7.0  3.0  143.14  \n",
              "214    8.8  572.613 -3.37320  10.0  4.0  203.50  \n",
              "\n",
              "[215 rows x 17 columns]"
            ]
          },
          "metadata": {
            "tags": []
          },
          "execution_count": 79
        }
      ]
    },
    {
      "cell_type": "markdown",
      "metadata": {
        "id": "e0MLOedB6j96"
      },
      "source": [
        "### **Conversion of  IC50 to pIC50 values**\n",
        "To allow **IC50** data to be more uniformly distributed, we will convert **IC50** to the negative logarithmic scale which is essentially **-log10(IC50)**.\n",
        "\n",
        "This custom function pIC50() will accept a DataFrame as input and will:\n",
        "* Take the IC50 values from the ``standard_value`` column and converts it from nM to M by multiplying the value by 10$^{-9}$\n",
        "* Take the molar value and apply -log10\n",
        "* Delete the ``standard_value`` column and create a new ``pIC50`` column"
      ]
    },
    {
      "cell_type": "code",
      "metadata": {
        "id": "UXMuFQoQ4pZF"
      },
      "source": [
        "import numpy as np\n",
        "\n",
        "def pIC50(input):\n",
        "    pIC50 = []\n",
        "\n",
        "    for i in input['standard_value_norm']:\n",
        "        molar = i*(10**-9) # Converts nM to M\n",
        "        pIC50.append(-np.log10(molar))\n",
        "\n",
        "    input['pIC50'] = pIC50\n",
        "    x = input.drop('standard_value_norm', 1)\n",
        "        \n",
        "    return x"
      ],
      "execution_count": null,
      "outputs": []
    },
    {
      "cell_type": "markdown",
      "metadata": {
        "id": "WU5Fh1h2OaJJ"
      },
      "source": [
        "Note: Values greater than 100,000,000 will be fixed at 100,000,000 otherwise the negative logarithmic value will become negative."
      ]
    },
    {
      "cell_type": "code",
      "metadata": {
        "colab": {
          "base_uri": "https://localhost:8080/",
          "height": 170
        },
        "id": "QuUTFUpcR1wU",
        "outputId": "9d1db8ff-8de4-4dd6-8259-6a28617538eb"
      },
      "source": [
        "df_combined.standard_value.describe()"
      ],
      "execution_count": null,
      "outputs": [
        {
          "output_type": "execute_result",
          "data": {
            "text/plain": [
              "count       214.000000\n",
              "mean      55138.037383\n",
              "std       96554.024824\n",
              "min         160.000000\n",
              "25%        8900.000000\n",
              "50%       28500.000000\n",
              "75%       50000.000000\n",
              "max      870000.000000\n",
              "Name: standard_value, dtype: float64"
            ]
          },
          "metadata": {
            "tags": []
          },
          "execution_count": 81
        }
      ]
    },
    {
      "cell_type": "code",
      "metadata": {
        "colab": {
          "base_uri": "https://localhost:8080/",
          "height": 34
        },
        "id": "QyiJ0to5N6Z_",
        "outputId": "e10f18e8-1255-4636-bf2f-efbd3befde4f"
      },
      "source": [
        "-np.log10( (10**-9)* 100000000 )"
      ],
      "execution_count": null,
      "outputs": [
        {
          "output_type": "execute_result",
          "data": {
            "text/plain": [
              "1.0"
            ]
          },
          "metadata": {
            "tags": []
          },
          "execution_count": 82
        }
      ]
    },
    {
      "cell_type": "code",
      "metadata": {
        "colab": {
          "base_uri": "https://localhost:8080/",
          "height": 34
        },
        "id": "9S1aJkOYOP6K",
        "outputId": "85aa8a89-99f7-4d9e-dac5-3f599c2fb364"
      },
      "source": [
        "-np.log10( (10**-9)* 10000000000 )"
      ],
      "execution_count": null,
      "outputs": [
        {
          "output_type": "execute_result",
          "data": {
            "text/plain": [
              "-1.0"
            ]
          },
          "metadata": {
            "tags": []
          },
          "execution_count": 83
        }
      ]
    },
    {
      "cell_type": "markdown",
      "metadata": {
        "id": "9YQr9rXI_7y2"
      },
      "source": [
        "# Defining the custom function norm_value which will normalize the standard_value column"
      ]
    },
    {
      "cell_type": "code",
      "metadata": {
        "id": "iktHDDwtPDwl"
      },
      "source": [
        "def norm_value(input):\n",
        "    norm = []\n",
        "\n",
        "    for i in input['standard_value']:\n",
        "        if i > 100000000:\n",
        "          i = 100000000\n",
        "        norm.append(i)\n",
        "\n",
        "    input['standard_value_norm'] = norm\n",
        "    x = input.drop('standard_value', 1)\n",
        "        \n",
        "    return x"
      ],
      "execution_count": null,
      "outputs": []
    },
    {
      "cell_type": "markdown",
      "metadata": {
        "id": "EkrTs7RfPsrH"
      },
      "source": [
        "We will first apply the norm_value() function so that the values in the standard_value column is normalized."
      ]
    },
    {
      "cell_type": "code",
      "metadata": {
        "colab": {
          "base_uri": "https://localhost:8080/",
          "height": 487
        },
        "id": "EX2Mj2-ZP1Rj",
        "outputId": "7f0f6cb0-d251-4208-fbf8-19970978625e"
      },
      "source": [
        "df_norm = norm_value(df_combined)\n",
        "df_norm"
      ],
      "execution_count": null,
      "outputs": [
        {
          "output_type": "execute_result",
          "data": {
            "text/html": [
              "<div>\n",
              "<style scoped>\n",
              "    .dataframe tbody tr th:only-of-type {\n",
              "        vertical-align: middle;\n",
              "    }\n",
              "\n",
              "    .dataframe tbody tr th {\n",
              "        vertical-align: top;\n",
              "    }\n",
              "\n",
              "    .dataframe thead th {\n",
              "        text-align: right;\n",
              "    }\n",
              "</style>\n",
              "<table border=\"1\" class=\"dataframe\">\n",
              "  <thead>\n",
              "    <tr style=\"text-align: right;\">\n",
              "      <th></th>\n",
              "      <th>canonical_smiles</th>\n",
              "      <th>molecule_chembl_id</th>\n",
              "      <th>molecule_pref_name</th>\n",
              "      <th>standard_type</th>\n",
              "      <th>standard_units</th>\n",
              "      <th>target_chembl_id</th>\n",
              "      <th>target_organism</th>\n",
              "      <th>target_pref_name</th>\n",
              "      <th>type</th>\n",
              "      <th>units</th>\n",
              "      <th>value</th>\n",
              "      <th>MW</th>\n",
              "      <th>LogP</th>\n",
              "      <th>HBA</th>\n",
              "      <th>HBD</th>\n",
              "      <th>PSA</th>\n",
              "      <th>standard_value_norm</th>\n",
              "    </tr>\n",
              "  </thead>\n",
              "  <tbody>\n",
              "    <tr>\n",
              "      <th>0</th>\n",
              "      <td>CCOC(=O)/C=C/[C@H](C[C@@H]1CCNC1=O)NC(=O)[C@@H...</td>\n",
              "      <td>CHEMBL194398</td>\n",
              "      <td>NaN</td>\n",
              "      <td>IC50</td>\n",
              "      <td>nM</td>\n",
              "      <td>CHEMBL5118</td>\n",
              "      <td>SARS coronavirus</td>\n",
              "      <td>Replicase polyprotein 1ab</td>\n",
              "      <td>IC50</td>\n",
              "      <td>uM</td>\n",
              "      <td>870.0</td>\n",
              "      <td>580.682</td>\n",
              "      <td>2.68582</td>\n",
              "      <td>8.0</td>\n",
              "      <td>3.0</td>\n",
              "      <td>156.70</td>\n",
              "      <td>870000.0</td>\n",
              "    </tr>\n",
              "    <tr>\n",
              "      <th>1</th>\n",
              "      <td>CCOC(=O)/C=C/[C@H](C[C@@H]1CCNC1=O)NC(=O)[C@H]...</td>\n",
              "      <td>CHEMBL393608</td>\n",
              "      <td>NaN</td>\n",
              "      <td>IC50</td>\n",
              "      <td>nM</td>\n",
              "      <td>CHEMBL5118</td>\n",
              "      <td>SARS coronavirus</td>\n",
              "      <td>Replicase polyprotein 1ab</td>\n",
              "      <td>IC50</td>\n",
              "      <td>uM</td>\n",
              "      <td>200.0</td>\n",
              "      <td>547.653</td>\n",
              "      <td>1.39862</td>\n",
              "      <td>8.0</td>\n",
              "      <td>4.0</td>\n",
              "      <td>168.73</td>\n",
              "      <td>200000.0</td>\n",
              "    </tr>\n",
              "    <tr>\n",
              "      <th>2</th>\n",
              "      <td>CCOC(=O)/C=C/[C@H](C[C@@H]1CCNC1=O)NC(=O)[C@H]...</td>\n",
              "      <td>CHEMBL238216</td>\n",
              "      <td>NaN</td>\n",
              "      <td>IC50</td>\n",
              "      <td>nM</td>\n",
              "      <td>CHEMBL5118</td>\n",
              "      <td>SARS coronavirus</td>\n",
              "      <td>Replicase polyprotein 1ab</td>\n",
              "      <td>IC50</td>\n",
              "      <td>uM</td>\n",
              "      <td>300.0</td>\n",
              "      <td>581.670</td>\n",
              "      <td>1.59522</td>\n",
              "      <td>8.0</td>\n",
              "      <td>4.0</td>\n",
              "      <td>168.73</td>\n",
              "      <td>300000.0</td>\n",
              "    </tr>\n",
              "    <tr>\n",
              "      <th>3</th>\n",
              "      <td>CCOC(=O)/C=C/[C@H](C[C@@H]1CCNC1=O)NC(=O)[C@H]...</td>\n",
              "      <td>CHEMBL235873</td>\n",
              "      <td>NaN</td>\n",
              "      <td>IC50</td>\n",
              "      <td>nM</td>\n",
              "      <td>CHEMBL5118</td>\n",
              "      <td>SARS coronavirus</td>\n",
              "      <td>Replicase polyprotein 1ab</td>\n",
              "      <td>IC50</td>\n",
              "      <td>uM</td>\n",
              "      <td>15.0</td>\n",
              "      <td>659.781</td>\n",
              "      <td>0.87060</td>\n",
              "      <td>9.0</td>\n",
              "      <td>6.0</td>\n",
              "      <td>201.26</td>\n",
              "      <td>15000.0</td>\n",
              "    </tr>\n",
              "    <tr>\n",
              "      <th>4</th>\n",
              "      <td>CCOC(=O)/C=C/[C@H](C[C@@H]1CCNC1=O)NC(=O)[C@H]...</td>\n",
              "      <td>CHEMBL397154</td>\n",
              "      <td>NaN</td>\n",
              "      <td>IC50</td>\n",
              "      <td>nM</td>\n",
              "      <td>CHEMBL5118</td>\n",
              "      <td>SARS coronavirus</td>\n",
              "      <td>Replicase polyprotein 1ab</td>\n",
              "      <td>IC50</td>\n",
              "      <td>uM</td>\n",
              "      <td>10.0</td>\n",
              "      <td>625.764</td>\n",
              "      <td>0.67400</td>\n",
              "      <td>9.0</td>\n",
              "      <td>6.0</td>\n",
              "      <td>201.26</td>\n",
              "      <td>10000.0</td>\n",
              "    </tr>\n",
              "    <tr>\n",
              "      <th>...</th>\n",
              "      <td>...</td>\n",
              "      <td>...</td>\n",
              "      <td>...</td>\n",
              "      <td>...</td>\n",
              "      <td>...</td>\n",
              "      <td>...</td>\n",
              "      <td>...</td>\n",
              "      <td>...</td>\n",
              "      <td>...</td>\n",
              "      <td>...</td>\n",
              "      <td>...</td>\n",
              "      <td>...</td>\n",
              "      <td>...</td>\n",
              "      <td>...</td>\n",
              "      <td>...</td>\n",
              "      <td>...</td>\n",
              "      <td>...</td>\n",
              "    </tr>\n",
              "    <tr>\n",
              "      <th>210</th>\n",
              "      <td>CC(C)C[C@H](NC(=O)OC1(Cc2ccccc2)CCN(S(C)(=O)=O...</td>\n",
              "      <td>CHEMBL4208764</td>\n",
              "      <td>NaN</td>\n",
              "      <td>IC50</td>\n",
              "      <td>nM</td>\n",
              "      <td>CHEMBL5118</td>\n",
              "      <td>SARS coronavirus</td>\n",
              "      <td>Replicase polyprotein 1ab</td>\n",
              "      <td>IC50</td>\n",
              "      <td>uM</td>\n",
              "      <td>4.3</td>\n",
              "      <td>668.767</td>\n",
              "      <td>-2.95720</td>\n",
              "      <td>10.0</td>\n",
              "      <td>4.0</td>\n",
              "      <td>211.34</td>\n",
              "      <td>4300.0</td>\n",
              "    </tr>\n",
              "    <tr>\n",
              "      <th>211</th>\n",
              "      <td>CCC1(OC(=O)N[C@@H](CC(C)C)C(=O)N[C@H](C=O)C[C@...</td>\n",
              "      <td>CHEMBL4212620</td>\n",
              "      <td>NaN</td>\n",
              "      <td>IC50</td>\n",
              "      <td>nM</td>\n",
              "      <td>CHEMBL5118</td>\n",
              "      <td>SARS coronavirus</td>\n",
              "      <td>Replicase polyprotein 1ab</td>\n",
              "      <td>IC50</td>\n",
              "      <td>uM</td>\n",
              "      <td>5.5</td>\n",
              "      <td>524.659</td>\n",
              "      <td>2.51690</td>\n",
              "      <td>7.0</td>\n",
              "      <td>3.0</td>\n",
              "      <td>143.14</td>\n",
              "      <td>5500.0</td>\n",
              "    </tr>\n",
              "    <tr>\n",
              "      <th>212</th>\n",
              "      <td>CCC1(OC(=O)N[C@@H](CC(C)C)C(=O)N[C@@H](C[C@@H]...</td>\n",
              "      <td>CHEMBL4216101</td>\n",
              "      <td>NaN</td>\n",
              "      <td>IC50</td>\n",
              "      <td>nM</td>\n",
              "      <td>CHEMBL5118</td>\n",
              "      <td>SARS coronavirus</td>\n",
              "      <td>Replicase polyprotein 1ab</td>\n",
              "      <td>IC50</td>\n",
              "      <td>uM</td>\n",
              "      <td>4.1</td>\n",
              "      <td>628.721</td>\n",
              "      <td>-1.81440</td>\n",
              "      <td>10.0</td>\n",
              "      <td>4.0</td>\n",
              "      <td>203.50</td>\n",
              "      <td>4100.0</td>\n",
              "    </tr>\n",
              "    <tr>\n",
              "      <th>213</th>\n",
              "      <td>CCOC(=O)N1CCC(OC(=O)N[C@@H](CC(C)C)C(=O)N[C@H]...</td>\n",
              "      <td>CHEMBL4217568</td>\n",
              "      <td>NaN</td>\n",
              "      <td>IC50</td>\n",
              "      <td>nM</td>\n",
              "      <td>CHEMBL5118</td>\n",
              "      <td>SARS coronavirus</td>\n",
              "      <td>Replicase polyprotein 1ab</td>\n",
              "      <td>IC50</td>\n",
              "      <td>uM</td>\n",
              "      <td>3.2</td>\n",
              "      <td>468.551</td>\n",
              "      <td>0.95810</td>\n",
              "      <td>7.0</td>\n",
              "      <td>3.0</td>\n",
              "      <td>143.14</td>\n",
              "      <td>3200.0</td>\n",
              "    </tr>\n",
              "    <tr>\n",
              "      <th>214</th>\n",
              "      <td>CCOC(=O)N1CCC(OC(=O)N[C@@H](CC(C)C)C(=O)N[C@@H...</td>\n",
              "      <td>CHEMBL4204431</td>\n",
              "      <td>NaN</td>\n",
              "      <td>IC50</td>\n",
              "      <td>nM</td>\n",
              "      <td>CHEMBL5118</td>\n",
              "      <td>SARS coronavirus</td>\n",
              "      <td>Replicase polyprotein 1ab</td>\n",
              "      <td>IC50</td>\n",
              "      <td>uM</td>\n",
              "      <td>8.8</td>\n",
              "      <td>572.613</td>\n",
              "      <td>-3.37320</td>\n",
              "      <td>10.0</td>\n",
              "      <td>4.0</td>\n",
              "      <td>203.50</td>\n",
              "      <td>8800.0</td>\n",
              "    </tr>\n",
              "  </tbody>\n",
              "</table>\n",
              "<p>215 rows × 17 columns</p>\n",
              "</div>"
            ],
            "text/plain": [
              "                                      canonical_smiles molecule_chembl_id  \\\n",
              "0    CCOC(=O)/C=C/[C@H](C[C@@H]1CCNC1=O)NC(=O)[C@@H...       CHEMBL194398   \n",
              "1    CCOC(=O)/C=C/[C@H](C[C@@H]1CCNC1=O)NC(=O)[C@H]...       CHEMBL393608   \n",
              "2    CCOC(=O)/C=C/[C@H](C[C@@H]1CCNC1=O)NC(=O)[C@H]...       CHEMBL238216   \n",
              "3    CCOC(=O)/C=C/[C@H](C[C@@H]1CCNC1=O)NC(=O)[C@H]...       CHEMBL235873   \n",
              "4    CCOC(=O)/C=C/[C@H](C[C@@H]1CCNC1=O)NC(=O)[C@H]...       CHEMBL397154   \n",
              "..                                                 ...                ...   \n",
              "210  CC(C)C[C@H](NC(=O)OC1(Cc2ccccc2)CCN(S(C)(=O)=O...      CHEMBL4208764   \n",
              "211  CCC1(OC(=O)N[C@@H](CC(C)C)C(=O)N[C@H](C=O)C[C@...      CHEMBL4212620   \n",
              "212  CCC1(OC(=O)N[C@@H](CC(C)C)C(=O)N[C@@H](C[C@@H]...      CHEMBL4216101   \n",
              "213  CCOC(=O)N1CCC(OC(=O)N[C@@H](CC(C)C)C(=O)N[C@H]...      CHEMBL4217568   \n",
              "214  CCOC(=O)N1CCC(OC(=O)N[C@@H](CC(C)C)C(=O)N[C@@H...      CHEMBL4204431   \n",
              "\n",
              "    molecule_pref_name standard_type standard_units target_chembl_id  \\\n",
              "0                  NaN          IC50             nM       CHEMBL5118   \n",
              "1                  NaN          IC50             nM       CHEMBL5118   \n",
              "2                  NaN          IC50             nM       CHEMBL5118   \n",
              "3                  NaN          IC50             nM       CHEMBL5118   \n",
              "4                  NaN          IC50             nM       CHEMBL5118   \n",
              "..                 ...           ...            ...              ...   \n",
              "210                NaN          IC50             nM       CHEMBL5118   \n",
              "211                NaN          IC50             nM       CHEMBL5118   \n",
              "212                NaN          IC50             nM       CHEMBL5118   \n",
              "213                NaN          IC50             nM       CHEMBL5118   \n",
              "214                NaN          IC50             nM       CHEMBL5118   \n",
              "\n",
              "      target_organism           target_pref_name  type units  value       MW  \\\n",
              "0    SARS coronavirus  Replicase polyprotein 1ab  IC50    uM  870.0  580.682   \n",
              "1    SARS coronavirus  Replicase polyprotein 1ab  IC50    uM  200.0  547.653   \n",
              "2    SARS coronavirus  Replicase polyprotein 1ab  IC50    uM  300.0  581.670   \n",
              "3    SARS coronavirus  Replicase polyprotein 1ab  IC50    uM   15.0  659.781   \n",
              "4    SARS coronavirus  Replicase polyprotein 1ab  IC50    uM   10.0  625.764   \n",
              "..                ...                        ...   ...   ...    ...      ...   \n",
              "210  SARS coronavirus  Replicase polyprotein 1ab  IC50    uM    4.3  668.767   \n",
              "211  SARS coronavirus  Replicase polyprotein 1ab  IC50    uM    5.5  524.659   \n",
              "212  SARS coronavirus  Replicase polyprotein 1ab  IC50    uM    4.1  628.721   \n",
              "213  SARS coronavirus  Replicase polyprotein 1ab  IC50    uM    3.2  468.551   \n",
              "214  SARS coronavirus  Replicase polyprotein 1ab  IC50    uM    8.8  572.613   \n",
              "\n",
              "        LogP   HBA  HBD     PSA  standard_value_norm  \n",
              "0    2.68582   8.0  3.0  156.70             870000.0  \n",
              "1    1.39862   8.0  4.0  168.73             200000.0  \n",
              "2    1.59522   8.0  4.0  168.73             300000.0  \n",
              "3    0.87060   9.0  6.0  201.26              15000.0  \n",
              "4    0.67400   9.0  6.0  201.26              10000.0  \n",
              "..       ...   ...  ...     ...                  ...  \n",
              "210 -2.95720  10.0  4.0  211.34               4300.0  \n",
              "211  2.51690   7.0  3.0  143.14               5500.0  \n",
              "212 -1.81440  10.0  4.0  203.50               4100.0  \n",
              "213  0.95810   7.0  3.0  143.14               3200.0  \n",
              "214 -3.37320  10.0  4.0  203.50               8800.0  \n",
              "\n",
              "[215 rows x 17 columns]"
            ]
          },
          "metadata": {
            "tags": []
          },
          "execution_count": 85
        }
      ]
    },
    {
      "cell_type": "code",
      "metadata": {
        "colab": {
          "base_uri": "https://localhost:8080/",
          "height": 173
        },
        "id": "hb1eKrIjRiH9",
        "outputId": "12b12341-df33-4446-e3cc-2a30ee1fe1f8"
      },
      "source": [
        "df_norm.standard_value_norm.describe()"
      ],
      "execution_count": null,
      "outputs": [
        {
          "output_type": "execute_result",
          "data": {
            "text/plain": [
              "count       214.000000\n",
              "mean      55138.037383\n",
              "std       96554.024824\n",
              "min         160.000000\n",
              "25%        8900.000000\n",
              "50%       28500.000000\n",
              "75%       50000.000000\n",
              "max      870000.000000\n",
              "Name: standard_value_norm, dtype: float64"
            ]
          },
          "metadata": {
            "tags": []
          },
          "execution_count": 86
        }
      ]
    },
    {
      "cell_type": "code",
      "metadata": {
        "id": "UDKZzmK57YnS"
      },
      "source": [
        "df_final = pIC50(df_norm)\n",
        "df_final.head()\n",
        "df_new=df_final.loc[:,['canonical_smiles','molecule_chembl_id','MW','LogP','HBA','HBD','PSA','pIC50']]\n",
        "df_new.columns=['smiles','id','MW','LogP','HBD','HBA','PSA','pIC50']"
      ],
      "execution_count": null,
      "outputs": []
    },
    {
      "cell_type": "code",
      "metadata": {
        "colab": {
          "base_uri": "https://localhost:8080/",
          "height": 173
        },
        "id": "BoqY53udSTYC",
        "outputId": "65595f1e-9547-4934-e958-b04825cf2316"
      },
      "source": [
        "df_final.pIC50.describe()"
      ],
      "execution_count": null,
      "outputs": [
        {
          "output_type": "execute_result",
          "data": {
            "text/plain": [
              "count    214.000000\n",
              "mean       4.635885\n",
              "std        0.619425\n",
              "min        3.060481\n",
              "25%        4.301030\n",
              "50%        4.545166\n",
              "75%        5.050691\n",
              "max        6.795880\n",
              "Name: pIC50, dtype: float64"
            ]
          },
          "metadata": {
            "tags": []
          },
          "execution_count": 88
        }
      ]
    },
    {
      "cell_type": "code",
      "metadata": {
        "id": "HmrndhDW3c7Z"
      },
      "source": [
        "# Conversion into csv file "
      ],
      "execution_count": null,
      "outputs": []
    },
    {
      "cell_type": "code",
      "metadata": {
        "id": "-5mLBW-6_7y3"
      },
      "source": [
        "df_new.to_csv('replicase_final.csv',index=False)"
      ],
      "execution_count": null,
      "outputs": []
    },
    {
      "cell_type": "markdown",
      "metadata": {
        "id": "p9vA4-hQQ8sA"
      },
      "source": [
        "---"
      ]
    },
    {
      "cell_type": "markdown",
      "metadata": {
        "id": "x0vqbQWfxsZu"
      },
      "source": [
        "## **Exploratory Data Analysis (Chemical Space Analysis) via rdkit descriptors**"
      ]
    },
    {
      "cell_type": "markdown",
      "metadata": {
        "id": "18heJagiyHoF"
      },
      "source": [
        "### **Import library**"
      ]
    },
    {
      "cell_type": "code",
      "metadata": {
        "id": "0Egq_rNsxtIj"
      },
      "source": [
        "import seaborn as sns\n",
        "sns.set(style='ticks')\n",
        "import matplotlib.pyplot as plt"
      ],
      "execution_count": null,
      "outputs": []
    },
    {
      "cell_type": "markdown",
      "metadata": {
        "id": "wB68NKVG0j68"
      },
      "source": [
        "### *Scatter plot of MW versus LogP*\n"
      ]
    },
    {
      "cell_type": "code",
      "metadata": {
        "colab": {
          "base_uri": "https://localhost:8080/",
          "height": 367
        },
        "id": "F79BNwjF0nub",
        "outputId": "beca351e-2b02-49f9-8712-6ffcdcde425f"
      },
      "source": [
        "plt.figure(figsize=(5.5, 5.5))\n",
        "\n",
        "sns.scatterplot(x='MW', y='LogP', data=df_new, size='pIC50', edgecolor='black', alpha=0.7,color='y')\n",
        "\n",
        "plt.xlabel('MW', fontsize=14, fontweight='bold')\n",
        "plt.ylabel('LogP', fontsize=14, fontweight='bold')\n",
        "plt.legend(bbox_to_anchor=(1.05, 1), loc=2, borderaxespad=0)\n",
        "plt.savefig('plot_MW_vs_LogP.png')"
      ],
      "execution_count": null,
      "outputs": [
        {
          "output_type": "display_data",
          "data": {
            "image/png": "[encoded data removed]",
            "text/plain": [
              "<Figure size 396x396 with 1 Axes>"
            ]
          },
          "metadata": {
            "tags": []
          }
        }
      ]
    },
    {
      "cell_type": "markdown",
      "metadata": {
        "id": "PsOqKyysCZCv"
      },
      "source": [
        "### *Scatter plot of MW versus HBA*"
      ]
    },
    {
      "cell_type": "code",
      "metadata": {
        "id": "LPdV1vDnWBsh",
        "outputId": "7105fdf0-1a03-4d25-c8c3-1609df42bcfc"
      },
      "source": [
        "plt.figure(figsize=(5.5, 5.5))\n",
        "\n",
        "sns.scatterplot(x='MW', y='HBA', data=df_new, size='pIC50', edgecolor='black', alpha=0.7,color='r')\n",
        "\n",
        "plt.xlabel('MW', fontsize=14, fontweight='bold')\n",
        "plt.ylabel('HBA', fontsize=14, fontweight='bold')\n",
        "plt.legend(bbox_to_anchor=(1.05, 1), loc=2, borderaxespad=0)\n",
        "plt.savefig('plot_MW_vs_HBA.png')"
      ],
      "execution_count": null,
      "outputs": [
        {
          "output_type": "display_data",
          "data": {
            "image/png": "[encoded data removed]",
            "text/plain": [
              "<Figure size 396x396 with 1 Axes>"
            ]
          },
          "metadata": {
            "tags": []
          }
        }
      ]
    },
    {
      "cell_type": "markdown",
      "metadata": {
        "id": "tkvdD3a2_7y4"
      },
      "source": [
        "### *Scatter plot of MW versus HBD*"
      ]
    },
    {
      "cell_type": "code",
      "metadata": {
        "id": "B_sHiwH0_7y5",
        "outputId": "d3f82a0e-2d06-4f47-cd8c-b66412ea4086"
      },
      "source": [
        "plt.figure(figsize=(5.5, 5.5))\n",
        "\n",
        "sns.scatterplot(x='MW', y='HBD', data=df_new, size='pIC50', edgecolor='black', alpha=0.7,color='b')\n",
        "\n",
        "plt.xlabel('MW', fontsize=14, fontweight='bold')\n",
        "plt.ylabel('HBD', fontsize=14, fontweight='bold')\n",
        "plt.legend(bbox_to_anchor=(1.05, 1), loc=2, borderaxespad=0)\n",
        "plt.savefig('plot_MW_vs_HBD.png')"
      ],
      "execution_count": null,
      "outputs": [
        {
          "output_type": "display_data",
          "data": {
            "image/png": "[encoded data removed]",
            "text/plain": [
              "<Figure size 396x396 with 1 Axes>"
            ]
          },
          "metadata": {
            "tags": []
          }
        }
      ]
    },
    {
      "cell_type": "markdown",
      "metadata": {
        "id": "kmw49OJI_7y5"
      },
      "source": [
        "### *Scatter plot of MW versus PSA*"
      ]
    },
    {
      "cell_type": "code",
      "metadata": {
        "id": "mXs4Q3kZ_7y5",
        "outputId": "08990d94-1e37-4e46-ea5f-05b75c247ce8"
      },
      "source": [
        "plt.figure(figsize=(5.5, 5.5))\n",
        "\n",
        "sns.scatterplot(x='MW', y='PSA', data=df_new, size='pIC50', edgecolor='black', alpha=0.7,color='g')\n",
        "\n",
        "plt.xlabel('MW', fontsize=14, fontweight='bold')\n",
        "plt.ylabel('PSA', fontsize=14, fontweight='bold')\n",
        "plt.legend(bbox_to_anchor=(1.05, 1), loc=2, borderaxespad=0)\n",
        "plt.savefig('plot_MW_vs_PSA.png')"
      ],
      "execution_count": null,
      "outputs": [
        {
          "output_type": "display_data",
          "data": {
            "image/png": "[encoded data removed]",
            "text/plain": [
              "<Figure size 396x396 with 1 Axes>"
            ]
          },
          "metadata": {
            "tags": []
          }
        }
      ]
    },
    {
      "cell_type": "markdown",
      "metadata": {
        "id": "jqGgKLsD_7y6"
      },
      "source": [
        "## Visualising Bioactivity Distribution"
      ]
    },
    {
      "cell_type": "code",
      "metadata": {
        "id": "uTEfU5nR_7y6",
        "outputId": "6364deac-eae0-4284-f382-de9d3a12996b"
      },
      "source": [
        "plt.figure(figsize=(5.5, 5.5))\n",
        "plt.hist(x='pIC50',data=df_new,color='g',alpha=0.6)\n",
        "plt.xlabel(\"pIC50\")\n",
        "plt.ylabel(\"Frequency\")\n",
        "plt.title(\"Bioactivity Distribution\")\n",
        "plt.savefig('Bioactivity_Distribution.png')\n",
        "plt.show()"
      ],
      "execution_count": null,
      "outputs": [
        {
          "output_type": "display_data",
          "data": {
            "image/png": "[encoded data removed]",
            "text/plain": [
              "<Figure size 396x396 with 1 Axes>"
            ]
          },
          "metadata": {
            "tags": []
          }
        }
      ]
    },
    {
      "cell_type": "code",
      "metadata": {
        "id": "4RyOldEt_7y6"
      },
      "source": [
        ""
      ],
      "execution_count": null,
      "outputs": []
    }
  ]
}