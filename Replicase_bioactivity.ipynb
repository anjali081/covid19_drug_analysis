{
  "nbformat": 4,
  "nbformat_minor": 0,
  "metadata": {
    "kernelspec": {
      "display_name": "Python 3",
      "language": "python",
      "name": "python3"
    },
    "language_info": {
      "codemirror_mode": {
        "name": "ipython",
        "version": 3
      },
      "file_extension": ".py",
      "mimetype": "text/x-python",
      "name": "python",
      "nbconvert_exporter": "python",
      "pygments_lexer": "ipython3",
      "version": "3.6.12"
    },
    "colab": {
      "name": "Replicase_bioactivity.ipynb",
      "provenance": [],
      "collapsed_sections": []
    }
  },
  "cells": [
    {
      "cell_type": "markdown",
      "metadata": {
        "id": "ORt8wezZ_bf8"
      },
      "source": [
        "## Installing chembl_websource client used to extract bioactivity values from the specific targets"
      ]
    },
    {
      "cell_type": "code",
      "metadata": {
        "id": "2tTOCzz7_bf9",
        "outputId": "bf72ae95-16f8-4603-b372-7eba3d10a812"
      },
      "source": [
        "pip install chembl_webresource_client\n"
      ],
      "execution_count": null,
      "outputs": [
        {
          "output_type": "stream",
          "text": [
            "Requirement already satisfied: chembl_webresource_client in c:\\users\\nit\\anaconda3\\envs\\my-rdkit-env\\lib\\site-packages (0.10.2)\n",
            "Requirement already satisfied: requests>=2.18.4 in c:\\users\\nit\\anaconda3\\envs\\my-rdkit-env\\lib\\site-packages (from chembl_webresource_client) (2.24.0)\n",
            "Requirement already satisfied: urllib3 in c:\\users\\nit\\anaconda3\\envs\\my-rdkit-env\\lib\\site-packages (from chembl_webresource_client) (1.25.10)\n",
            "Requirement already satisfied: easydict in c:\\users\\nit\\anaconda3\\envs\\my-rdkit-env\\lib\\site-packages (from chembl_webresource_client) (1.9)\n",
            "Requirement already satisfied: requests-cache>=0.4.7 in c:\\users\\nit\\anaconda3\\envs\\my-rdkit-env\\lib\\site-packages (from chembl_webresource_client) (0.5.2)\n",
            "Requirement already satisfied: certifi>=2017.4.17 in c:\\users\\nit\\anaconda3\\envs\\my-rdkit-env\\lib\\site-packages (from requests>=2.18.4->chembl_webresource_client) (2020.6.20)\n",
            "Requirement already satisfied: chardet<4,>=3.0.2 in c:\\users\\nit\\anaconda3\\envs\\my-rdkit-env\\lib\\site-packages (from requests>=2.18.4->chembl_webresource_client) (3.0.4)\n",
            "Requirement already satisfied: idna<3,>=2.5 in c:\\users\\nit\\anaconda3\\envs\\my-rdkit-env\\lib\\site-packages (from requests>=2.18.4->chembl_webresource_client) (2.10)\n",
            "Note: you may need to restart the kernel to use updated packages.\n"
          ],
          "name": "stdout"
        }
      ]
    },
    {
      "cell_type": "markdown",
      "metadata": {
        "id": "dXPcQv19_bf-"
      },
      "source": [
        "## Importing the required Libraries"
      ]
    },
    {
      "cell_type": "code",
      "metadata": {
        "id": "EQT7eqrL_bf-"
      },
      "source": [
        "import pandas as pd\n",
        "from chembl_webresource_client.new_client import new_client\n",
        "import pandas as pd\n",
        "import numpy as np\n",
        "\n",
        "\n"
      ],
      "execution_count": null,
      "outputs": []
    },
    {
      "cell_type": "markdown",
      "metadata": {
        "id": "ACwbdem8_bf-"
      },
      "source": [
        "# Target search for Coronavirus\n"
      ]
    },
    {
      "cell_type": "code",
      "metadata": {
        "id": "Q6SeUhgA_bf-",
        "outputId": "a67044c7-692c-4579-b16e-2947daeaee13"
      },
      "source": [
        "# Target search for coronavirus\n",
        "target = new_client.target\n",
        "target_query = target.search('coronavirus')\n",
        "targets = pd.DataFrame.from_dict(target_query)\n",
        "targets"
      ],
      "execution_count": null,
      "outputs": [
        {
          "output_type": "execute_result",
          "data": {
            "text/html": [
              "<div>\n",
              "<style scoped>\n",
              "    .dataframe tbody tr th:only-of-type {\n",
              "        vertical-align: middle;\n",
              "    }\n",
              "\n",
              "    .dataframe tbody tr th {\n",
              "        vertical-align: top;\n",
              "    }\n",
              "\n",
              "    .dataframe thead th {\n",
              "        text-align: right;\n",
              "    }\n",
              "</style>\n",
              "<table border=\"1\" class=\"dataframe\">\n",
              "  <thead>\n",
              "    <tr style=\"text-align: right;\">\n",
              "      <th></th>\n",
              "      <th>cross_references</th>\n",
              "      <th>organism</th>\n",
              "      <th>pref_name</th>\n",
              "      <th>score</th>\n",
              "      <th>species_group_flag</th>\n",
              "      <th>target_chembl_id</th>\n",
              "      <th>target_components</th>\n",
              "      <th>target_type</th>\n",
              "      <th>tax_id</th>\n",
              "    </tr>\n",
              "  </thead>\n",
              "  <tbody>\n",
              "    <tr>\n",
              "      <th>0</th>\n",
              "      <td>[]</td>\n",
              "      <td>Coronavirus</td>\n",
              "      <td>Coronavirus</td>\n",
              "      <td>17.0</td>\n",
              "      <td>False</td>\n",
              "      <td>CHEMBL613732</td>\n",
              "      <td>[]</td>\n",
              "      <td>ORGANISM</td>\n",
              "      <td>11119</td>\n",
              "    </tr>\n",
              "    <tr>\n",
              "      <th>1</th>\n",
              "      <td>[]</td>\n",
              "      <td>SARS coronavirus</td>\n",
              "      <td>SARS coronavirus</td>\n",
              "      <td>14.0</td>\n",
              "      <td>False</td>\n",
              "      <td>CHEMBL612575</td>\n",
              "      <td>[]</td>\n",
              "      <td>ORGANISM</td>\n",
              "      <td>227859</td>\n",
              "    </tr>\n",
              "    <tr>\n",
              "      <th>2</th>\n",
              "      <td>[]</td>\n",
              "      <td>Feline coronavirus</td>\n",
              "      <td>Feline coronavirus</td>\n",
              "      <td>14.0</td>\n",
              "      <td>False</td>\n",
              "      <td>CHEMBL612744</td>\n",
              "      <td>[]</td>\n",
              "      <td>ORGANISM</td>\n",
              "      <td>12663</td>\n",
              "    </tr>\n",
              "    <tr>\n",
              "      <th>3</th>\n",
              "      <td>[]</td>\n",
              "      <td>Human coronavirus 229E</td>\n",
              "      <td>Human coronavirus 229E</td>\n",
              "      <td>13.0</td>\n",
              "      <td>False</td>\n",
              "      <td>CHEMBL613837</td>\n",
              "      <td>[]</td>\n",
              "      <td>ORGANISM</td>\n",
              "      <td>11137</td>\n",
              "    </tr>\n",
              "    <tr>\n",
              "      <th>4</th>\n",
              "      <td>[{'xref_id': 'P0C6U8', 'xref_name': None, 'xre...</td>\n",
              "      <td>SARS coronavirus</td>\n",
              "      <td>SARS coronavirus 3C-like proteinase</td>\n",
              "      <td>10.0</td>\n",
              "      <td>False</td>\n",
              "      <td>CHEMBL3927</td>\n",
              "      <td>[{'accession': 'P0C6U8', 'component_descriptio...</td>\n",
              "      <td>SINGLE PROTEIN</td>\n",
              "      <td>227859</td>\n",
              "    </tr>\n",
              "    <tr>\n",
              "      <th>5</th>\n",
              "      <td>[]</td>\n",
              "      <td>Middle East respiratory syndrome-related coron...</td>\n",
              "      <td>Middle East respiratory syndrome-related coron...</td>\n",
              "      <td>9.0</td>\n",
              "      <td>False</td>\n",
              "      <td>CHEMBL4296578</td>\n",
              "      <td>[]</td>\n",
              "      <td>ORGANISM</td>\n",
              "      <td>1335626</td>\n",
              "    </tr>\n",
              "    <tr>\n",
              "      <th>6</th>\n",
              "      <td>[{'xref_id': 'P0C6X7', 'xref_name': None, 'xre...</td>\n",
              "      <td>SARS coronavirus</td>\n",
              "      <td>Replicase polyprotein 1ab</td>\n",
              "      <td>5.0</td>\n",
              "      <td>False</td>\n",
              "      <td>CHEMBL5118</td>\n",
              "      <td>[{'accession': 'P0C6X7', 'component_descriptio...</td>\n",
              "      <td>SINGLE PROTEIN</td>\n",
              "      <td>227859</td>\n",
              "    </tr>\n",
              "  </tbody>\n",
              "</table>\n",
              "</div>"
            ],
            "text/plain": [
              "                                    cross_references  \\\n",
              "0                                                 []   \n",
              "1                                                 []   \n",
              "2                                                 []   \n",
              "3                                                 []   \n",
              "4  [{'xref_id': 'P0C6U8', 'xref_name': None, 'xre...   \n",
              "5                                                 []   \n",
              "6  [{'xref_id': 'P0C6X7', 'xref_name': None, 'xre...   \n",
              "\n",
              "                                            organism  \\\n",
              "0                                        Coronavirus   \n",
              "1                                   SARS coronavirus   \n",
              "2                                 Feline coronavirus   \n",
              "3                             Human coronavirus 229E   \n",
              "4                                   SARS coronavirus   \n",
              "5  Middle East respiratory syndrome-related coron...   \n",
              "6                                   SARS coronavirus   \n",
              "\n",
              "                                           pref_name  score  \\\n",
              "0                                        Coronavirus   17.0   \n",
              "1                                   SARS coronavirus   14.0   \n",
              "2                                 Feline coronavirus   14.0   \n",
              "3                             Human coronavirus 229E   13.0   \n",
              "4                SARS coronavirus 3C-like proteinase   10.0   \n",
              "5  Middle East respiratory syndrome-related coron...    9.0   \n",
              "6                          Replicase polyprotein 1ab    5.0   \n",
              "\n",
              "   species_group_flag target_chembl_id  \\\n",
              "0               False     CHEMBL613732   \n",
              "1               False     CHEMBL612575   \n",
              "2               False     CHEMBL612744   \n",
              "3               False     CHEMBL613837   \n",
              "4               False       CHEMBL3927   \n",
              "5               False    CHEMBL4296578   \n",
              "6               False       CHEMBL5118   \n",
              "\n",
              "                                   target_components     target_type   tax_id  \n",
              "0                                                 []        ORGANISM    11119  \n",
              "1                                                 []        ORGANISM   227859  \n",
              "2                                                 []        ORGANISM    12663  \n",
              "3                                                 []        ORGANISM    11137  \n",
              "4  [{'accession': 'P0C6U8', 'component_descriptio...  SINGLE PROTEIN   227859  \n",
              "5                                                 []        ORGANISM  1335626  \n",
              "6  [{'accession': 'P0C6X7', 'component_descriptio...  SINGLE PROTEIN   227859  "
            ]
          },
          "metadata": {
            "tags": []
          },
          "execution_count": 9
        }
      ]
    },
    {
      "cell_type": "markdown",
      "metadata": {
        "id": "u1psch2N_bf_"
      },
      "source": [
        "# Selecting and retrieving bioactivity data for Replicase polyprotein 1ab"
      ]
    },
    {
      "cell_type": "code",
      "metadata": {
        "id": "jMwKRQWt_bf_",
        "outputId": "400c365c-7f2b-4e89-e4cd-1beebaffe43d"
      },
      "source": [
        "selected_target = targets.target_chembl_id[6]\n",
        "selected_target"
      ],
      "execution_count": null,
      "outputs": [
        {
          "output_type": "execute_result",
          "data": {
            "text/plain": [
              "'CHEMBL5118'"
            ]
          },
          "metadata": {
            "tags": []
          },
          "execution_count": 10
        }
      ]
    },
    {
      "cell_type": "markdown",
      "metadata": {
        "id": "jXKXWzg2_bgA"
      },
      "source": [
        "### Data will only be retrieved  for the above replicase polyprotein 1ab that have IC50 values in nM unit."
      ]
    },
    {
      "cell_type": "code",
      "metadata": {
        "id": "dCydy5Am_bgA"
      },
      "source": [
        "activity = new_client.activity\n",
        "\n",
        "res = activity.filter(target_chembl_id=selected_target).filter(standard_type=\"IC50\")"
      ],
      "execution_count": null,
      "outputs": []
    },
    {
      "cell_type": "code",
      "metadata": {
        "id": "826Q62WS_bgA"
      },
      "source": [
        "\n",
        "df6 = pd.DataFrame.from_dict(res)\n"
      ],
      "execution_count": null,
      "outputs": []
    },
    {
      "cell_type": "code",
      "metadata": {
        "id": "wod_fFvx_bgA",
        "outputId": "6fd5cb40-6112-44fb-e1d4-a21c4d563ff2"
      },
      "source": [
        "df6.head(4)"
      ],
      "execution_count": null,
      "outputs": [
        {
          "output_type": "execute_result",
          "data": {
            "text/html": [
              "<div>\n",
              "<style scoped>\n",
              "    .dataframe tbody tr th:only-of-type {\n",
              "        vertical-align: middle;\n",
              "    }\n",
              "\n",
              "    .dataframe tbody tr th {\n",
              "        vertical-align: top;\n",
              "    }\n",
              "\n",
              "    .dataframe thead th {\n",
              "        text-align: right;\n",
              "    }\n",
              "</style>\n",
              "<table border=\"1\" class=\"dataframe\">\n",
              "  <thead>\n",
              "    <tr style=\"text-align: right;\">\n",
              "      <th></th>\n",
              "      <th>activity_comment</th>\n",
              "      <th>activity_id</th>\n",
              "      <th>activity_properties</th>\n",
              "      <th>assay_chembl_id</th>\n",
              "      <th>assay_description</th>\n",
              "      <th>assay_type</th>\n",
              "      <th>bao_endpoint</th>\n",
              "      <th>bao_format</th>\n",
              "      <th>bao_label</th>\n",
              "      <th>canonical_smiles</th>\n",
              "      <th>...</th>\n",
              "      <th>target_organism</th>\n",
              "      <th>target_pref_name</th>\n",
              "      <th>target_tax_id</th>\n",
              "      <th>text_value</th>\n",
              "      <th>toid</th>\n",
              "      <th>type</th>\n",
              "      <th>units</th>\n",
              "      <th>uo_units</th>\n",
              "      <th>upper_value</th>\n",
              "      <th>value</th>\n",
              "    </tr>\n",
              "  </thead>\n",
              "  <tbody>\n",
              "    <tr>\n",
              "      <th>0</th>\n",
              "      <td>None</td>\n",
              "      <td>1988091</td>\n",
              "      <td>[]</td>\n",
              "      <td>CHEMBL898907</td>\n",
              "      <td>Inhibition of SARS-CoV 3C-like protease by FRE...</td>\n",
              "      <td>B</td>\n",
              "      <td>BAO_0000190</td>\n",
              "      <td>BAO_0000019</td>\n",
              "      <td>assay format</td>\n",
              "      <td>CCOC(=O)/C=C/[C@H](C[C@@H]1CCNC1=O)NC(=O)[C@@H...</td>\n",
              "      <td>...</td>\n",
              "      <td>SARS coronavirus</td>\n",
              "      <td>Replicase polyprotein 1ab</td>\n",
              "      <td>227859</td>\n",
              "      <td>None</td>\n",
              "      <td>None</td>\n",
              "      <td>IC50</td>\n",
              "      <td>uM</td>\n",
              "      <td>UO_0000065</td>\n",
              "      <td>None</td>\n",
              "      <td>870.0</td>\n",
              "    </tr>\n",
              "    <tr>\n",
              "      <th>1</th>\n",
              "      <td>None</td>\n",
              "      <td>1988092</td>\n",
              "      <td>[]</td>\n",
              "      <td>CHEMBL898907</td>\n",
              "      <td>Inhibition of SARS-CoV 3C-like protease by FRE...</td>\n",
              "      <td>B</td>\n",
              "      <td>BAO_0000190</td>\n",
              "      <td>BAO_0000019</td>\n",
              "      <td>assay format</td>\n",
              "      <td>CCOC(=O)/C=C/[C@H](C[C@@H]1CCNC1=O)NC(=O)[C@H]...</td>\n",
              "      <td>...</td>\n",
              "      <td>SARS coronavirus</td>\n",
              "      <td>Replicase polyprotein 1ab</td>\n",
              "      <td>227859</td>\n",
              "      <td>None</td>\n",
              "      <td>None</td>\n",
              "      <td>IC50</td>\n",
              "      <td>uM</td>\n",
              "      <td>UO_0000065</td>\n",
              "      <td>None</td>\n",
              "      <td>200.0</td>\n",
              "    </tr>\n",
              "    <tr>\n",
              "      <th>2</th>\n",
              "      <td>None</td>\n",
              "      <td>1988093</td>\n",
              "      <td>[]</td>\n",
              "      <td>CHEMBL898907</td>\n",
              "      <td>Inhibition of SARS-CoV 3C-like protease by FRE...</td>\n",
              "      <td>B</td>\n",
              "      <td>BAO_0000190</td>\n",
              "      <td>BAO_0000019</td>\n",
              "      <td>assay format</td>\n",
              "      <td>CCOC(=O)/C=C/[C@H](C[C@@H]1CCNC1=O)NC(=O)[C@H]...</td>\n",
              "      <td>...</td>\n",
              "      <td>SARS coronavirus</td>\n",
              "      <td>Replicase polyprotein 1ab</td>\n",
              "      <td>227859</td>\n",
              "      <td>None</td>\n",
              "      <td>None</td>\n",
              "      <td>IC50</td>\n",
              "      <td>uM</td>\n",
              "      <td>UO_0000065</td>\n",
              "      <td>None</td>\n",
              "      <td>300.0</td>\n",
              "    </tr>\n",
              "    <tr>\n",
              "      <th>3</th>\n",
              "      <td>None</td>\n",
              "      <td>1988094</td>\n",
              "      <td>[]</td>\n",
              "      <td>CHEMBL898907</td>\n",
              "      <td>Inhibition of SARS-CoV 3C-like protease by FRE...</td>\n",
              "      <td>B</td>\n",
              "      <td>BAO_0000190</td>\n",
              "      <td>BAO_0000019</td>\n",
              "      <td>assay format</td>\n",
              "      <td>CCOC(=O)/C=C/[C@H](C[C@@H]1CCNC1=O)NC(=O)[C@H]...</td>\n",
              "      <td>...</td>\n",
              "      <td>SARS coronavirus</td>\n",
              "      <td>Replicase polyprotein 1ab</td>\n",
              "      <td>227859</td>\n",
              "      <td>None</td>\n",
              "      <td>None</td>\n",
              "      <td>IC50</td>\n",
              "      <td>uM</td>\n",
              "      <td>UO_0000065</td>\n",
              "      <td>None</td>\n",
              "      <td>15.0</td>\n",
              "    </tr>\n",
              "  </tbody>\n",
              "</table>\n",
              "<p>4 rows × 43 columns</p>\n",
              "</div>"
            ],
            "text/plain": [
              "  activity_comment  activity_id activity_properties assay_chembl_id  \\\n",
              "0             None      1988091                  []    CHEMBL898907   \n",
              "1             None      1988092                  []    CHEMBL898907   \n",
              "2             None      1988093                  []    CHEMBL898907   \n",
              "3             None      1988094                  []    CHEMBL898907   \n",
              "\n",
              "                                   assay_description assay_type bao_endpoint  \\\n",
              "0  Inhibition of SARS-CoV 3C-like protease by FRE...          B  BAO_0000190   \n",
              "1  Inhibition of SARS-CoV 3C-like protease by FRE...          B  BAO_0000190   \n",
              "2  Inhibition of SARS-CoV 3C-like protease by FRE...          B  BAO_0000190   \n",
              "3  Inhibition of SARS-CoV 3C-like protease by FRE...          B  BAO_0000190   \n",
              "\n",
              "    bao_format     bao_label  \\\n",
              "0  BAO_0000019  assay format   \n",
              "1  BAO_0000019  assay format   \n",
              "2  BAO_0000019  assay format   \n",
              "3  BAO_0000019  assay format   \n",
              "\n",
              "                                    canonical_smiles  ...   target_organism  \\\n",
              "0  CCOC(=O)/C=C/[C@H](C[C@@H]1CCNC1=O)NC(=O)[C@@H...  ...  SARS coronavirus   \n",
              "1  CCOC(=O)/C=C/[C@H](C[C@@H]1CCNC1=O)NC(=O)[C@H]...  ...  SARS coronavirus   \n",
              "2  CCOC(=O)/C=C/[C@H](C[C@@H]1CCNC1=O)NC(=O)[C@H]...  ...  SARS coronavirus   \n",
              "3  CCOC(=O)/C=C/[C@H](C[C@@H]1CCNC1=O)NC(=O)[C@H]...  ...  SARS coronavirus   \n",
              "\n",
              "            target_pref_name target_tax_id text_value  toid  type units  \\\n",
              "0  Replicase polyprotein 1ab        227859       None  None  IC50    uM   \n",
              "1  Replicase polyprotein 1ab        227859       None  None  IC50    uM   \n",
              "2  Replicase polyprotein 1ab        227859       None  None  IC50    uM   \n",
              "3  Replicase polyprotein 1ab        227859       None  None  IC50    uM   \n",
              "\n",
              "     uo_units upper_value  value  \n",
              "0  UO_0000065        None  870.0  \n",
              "1  UO_0000065        None  200.0  \n",
              "2  UO_0000065        None  300.0  \n",
              "3  UO_0000065        None   15.0  \n",
              "\n",
              "[4 rows x 43 columns]"
            ]
          },
          "metadata": {
            "tags": []
          },
          "execution_count": 13
        }
      ]
    },
    {
      "cell_type": "markdown",
      "metadata": {
        "id": "5XABDeJF_bgB"
      },
      "source": [
        "## Conversion to dataframe"
      ]
    },
    {
      "cell_type": "code",
      "metadata": {
        "id": "9yyhHIKY_bgB"
      },
      "source": [
        "df=pd.concat([df6], ignore_index=True)"
      ],
      "execution_count": null,
      "outputs": []
    },
    {
      "cell_type": "markdown",
      "metadata": {
        "id": "jrsk1QbJ_bgB"
      },
      "source": [
        "## Creating the csv files from the extracted bioactivity values"
      ]
    },
    {
      "cell_type": "code",
      "metadata": {
        "id": "SZiQUkDv_bgB"
      },
      "source": [
        "df.to_csv('replicase1_temp.csv')"
      ],
      "execution_count": null,
      "outputs": []
    },
    {
      "cell_type": "code",
      "metadata": {
        "id": "hyqgUBey_bgB"
      },
      "source": [
        "df= df.drop(columns=['activity_comment','activity_id','activity_properties','assay_chembl_id','assay_description','assay_type','bao_endpoint','bao_format','bao_label','data_validity_comment','data_validity_description','document_chembl_id','document_journal','document_year','ligand_efficiency','potential_duplicate','qudt_units','record_id','parent_molecule_chembl_id','relation','src_id','standard_flag','standard_relation','standard_text_value','pchembl_value','standard_upper_value','target_tax_id','toid','uo_units','upper_value','text_value'])"
      ],
      "execution_count": null,
      "outputs": []
    },
    {
      "cell_type": "markdown",
      "metadata": {
        "id": "jA1jOiju_bgC"
      },
      "source": [
        "We will save the resulting data to a CSV file replicase1.csv"
      ]
    },
    {
      "cell_type": "code",
      "metadata": {
        "id": "3lnnWPRB_bgC"
      },
      "source": [
        "df.to_csv('replicase1.csv',index=False)"
      ],
      "execution_count": null,
      "outputs": []
    },
    {
      "cell_type": "code",
      "metadata": {
        "id": "yUwakUU-_bgC",
        "outputId": "3af7dbc4-44c6-41bf-d7a2-82388ef6c2e9"
      },
      "source": [
        "df.dropna(subset=['standard_type','standard_value','type','units','value'], inplace=True)\n",
        "df"
      ],
      "execution_count": null,
      "outputs": [
        {
          "output_type": "execute_result",
          "data": {
            "text/html": [
              "<div>\n",
              "<style scoped>\n",
              "    .dataframe tbody tr th:only-of-type {\n",
              "        vertical-align: middle;\n",
              "    }\n",
              "\n",
              "    .dataframe tbody tr th {\n",
              "        vertical-align: top;\n",
              "    }\n",
              "\n",
              "    .dataframe thead th {\n",
              "        text-align: right;\n",
              "    }\n",
              "</style>\n",
              "<table border=\"1\" class=\"dataframe\">\n",
              "  <thead>\n",
              "    <tr style=\"text-align: right;\">\n",
              "      <th></th>\n",
              "      <th>canonical_smiles</th>\n",
              "      <th>molecule_chembl_id</th>\n",
              "      <th>molecule_pref_name</th>\n",
              "      <th>standard_type</th>\n",
              "      <th>standard_units</th>\n",
              "      <th>standard_value</th>\n",
              "      <th>target_chembl_id</th>\n",
              "      <th>target_organism</th>\n",
              "      <th>target_pref_name</th>\n",
              "      <th>type</th>\n",
              "      <th>units</th>\n",
              "      <th>value</th>\n",
              "    </tr>\n",
              "  </thead>\n",
              "  <tbody>\n",
              "    <tr>\n",
              "      <th>0</th>\n",
              "      <td>CCOC(=O)/C=C/[C@H](C[C@@H]1CCNC1=O)NC(=O)[C@@H...</td>\n",
              "      <td>CHEMBL194398</td>\n",
              "      <td>None</td>\n",
              "      <td>IC50</td>\n",
              "      <td>nM</td>\n",
              "      <td>870000.0</td>\n",
              "      <td>CHEMBL5118</td>\n",
              "      <td>SARS coronavirus</td>\n",
              "      <td>Replicase polyprotein 1ab</td>\n",
              "      <td>IC50</td>\n",
              "      <td>uM</td>\n",
              "      <td>870.0</td>\n",
              "    </tr>\n",
              "    <tr>\n",
              "      <th>1</th>\n",
              "      <td>CCOC(=O)/C=C/[C@H](C[C@@H]1CCNC1=O)NC(=O)[C@H]...</td>\n",
              "      <td>CHEMBL393608</td>\n",
              "      <td>None</td>\n",
              "      <td>IC50</td>\n",
              "      <td>nM</td>\n",
              "      <td>200000.0</td>\n",
              "      <td>CHEMBL5118</td>\n",
              "      <td>SARS coronavirus</td>\n",
              "      <td>Replicase polyprotein 1ab</td>\n",
              "      <td>IC50</td>\n",
              "      <td>uM</td>\n",
              "      <td>200.0</td>\n",
              "    </tr>\n",
              "    <tr>\n",
              "      <th>2</th>\n",
              "      <td>CCOC(=O)/C=C/[C@H](C[C@@H]1CCNC1=O)NC(=O)[C@H]...</td>\n",
              "      <td>CHEMBL238216</td>\n",
              "      <td>None</td>\n",
              "      <td>IC50</td>\n",
              "      <td>nM</td>\n",
              "      <td>300000.0</td>\n",
              "      <td>CHEMBL5118</td>\n",
              "      <td>SARS coronavirus</td>\n",
              "      <td>Replicase polyprotein 1ab</td>\n",
              "      <td>IC50</td>\n",
              "      <td>uM</td>\n",
              "      <td>300.0</td>\n",
              "    </tr>\n",
              "    <tr>\n",
              "      <th>3</th>\n",
              "      <td>CCOC(=O)/C=C/[C@H](C[C@@H]1CCNC1=O)NC(=O)[C@H]...</td>\n",
              "      <td>CHEMBL235873</td>\n",
              "      <td>None</td>\n",
              "      <td>IC50</td>\n",
              "      <td>nM</td>\n",
              "      <td>15000.0</td>\n",
              "      <td>CHEMBL5118</td>\n",
              "      <td>SARS coronavirus</td>\n",
              "      <td>Replicase polyprotein 1ab</td>\n",
              "      <td>IC50</td>\n",
              "      <td>uM</td>\n",
              "      <td>15.0</td>\n",
              "    </tr>\n",
              "    <tr>\n",
              "      <th>4</th>\n",
              "      <td>CCOC(=O)/C=C/[C@H](C[C@@H]1CCNC1=O)NC(=O)[C@H]...</td>\n",
              "      <td>CHEMBL397154</td>\n",
              "      <td>None</td>\n",
              "      <td>IC50</td>\n",
              "      <td>nM</td>\n",
              "      <td>10000.0</td>\n",
              "      <td>CHEMBL5118</td>\n",
              "      <td>SARS coronavirus</td>\n",
              "      <td>Replicase polyprotein 1ab</td>\n",
              "      <td>IC50</td>\n",
              "      <td>uM</td>\n",
              "      <td>10.0</td>\n",
              "    </tr>\n",
              "    <tr>\n",
              "      <th>...</th>\n",
              "      <td>...</td>\n",
              "      <td>...</td>\n",
              "      <td>...</td>\n",
              "      <td>...</td>\n",
              "      <td>...</td>\n",
              "      <td>...</td>\n",
              "      <td>...</td>\n",
              "      <td>...</td>\n",
              "      <td>...</td>\n",
              "      <td>...</td>\n",
              "      <td>...</td>\n",
              "      <td>...</td>\n",
              "    </tr>\n",
              "    <tr>\n",
              "      <th>210</th>\n",
              "      <td>CC(C)C[C@H](NC(=O)OC1(Cc2ccccc2)CCN(S(C)(=O)=O...</td>\n",
              "      <td>CHEMBL4208764</td>\n",
              "      <td>None</td>\n",
              "      <td>IC50</td>\n",
              "      <td>nM</td>\n",
              "      <td>4300.0</td>\n",
              "      <td>CHEMBL5118</td>\n",
              "      <td>SARS coronavirus</td>\n",
              "      <td>Replicase polyprotein 1ab</td>\n",
              "      <td>IC50</td>\n",
              "      <td>uM</td>\n",
              "      <td>4.3</td>\n",
              "    </tr>\n",
              "    <tr>\n",
              "      <th>211</th>\n",
              "      <td>CCC1(OC(=O)N[C@@H](CC(C)C)C(=O)N[C@H](C=O)C[C@...</td>\n",
              "      <td>CHEMBL4212620</td>\n",
              "      <td>None</td>\n",
              "      <td>IC50</td>\n",
              "      <td>nM</td>\n",
              "      <td>5500.0</td>\n",
              "      <td>CHEMBL5118</td>\n",
              "      <td>SARS coronavirus</td>\n",
              "      <td>Replicase polyprotein 1ab</td>\n",
              "      <td>IC50</td>\n",
              "      <td>uM</td>\n",
              "      <td>5.5</td>\n",
              "    </tr>\n",
              "    <tr>\n",
              "      <th>212</th>\n",
              "      <td>CCC1(OC(=O)N[C@@H](CC(C)C)C(=O)N[C@@H](C[C@@H]...</td>\n",
              "      <td>CHEMBL4216101</td>\n",
              "      <td>None</td>\n",
              "      <td>IC50</td>\n",
              "      <td>nM</td>\n",
              "      <td>4100.0</td>\n",
              "      <td>CHEMBL5118</td>\n",
              "      <td>SARS coronavirus</td>\n",
              "      <td>Replicase polyprotein 1ab</td>\n",
              "      <td>IC50</td>\n",
              "      <td>uM</td>\n",
              "      <td>4.1</td>\n",
              "    </tr>\n",
              "    <tr>\n",
              "      <th>213</th>\n",
              "      <td>CCOC(=O)N1CCC(OC(=O)N[C@@H](CC(C)C)C(=O)N[C@H]...</td>\n",
              "      <td>CHEMBL4217568</td>\n",
              "      <td>None</td>\n",
              "      <td>IC50</td>\n",
              "      <td>nM</td>\n",
              "      <td>3200.0</td>\n",
              "      <td>CHEMBL5118</td>\n",
              "      <td>SARS coronavirus</td>\n",
              "      <td>Replicase polyprotein 1ab</td>\n",
              "      <td>IC50</td>\n",
              "      <td>uM</td>\n",
              "      <td>3.2</td>\n",
              "    </tr>\n",
              "    <tr>\n",
              "      <th>214</th>\n",
              "      <td>CCOC(=O)N1CCC(OC(=O)N[C@@H](CC(C)C)C(=O)N[C@@H...</td>\n",
              "      <td>CHEMBL4204431</td>\n",
              "      <td>None</td>\n",
              "      <td>IC50</td>\n",
              "      <td>nM</td>\n",
              "      <td>8800.0</td>\n",
              "      <td>CHEMBL5118</td>\n",
              "      <td>SARS coronavirus</td>\n",
              "      <td>Replicase polyprotein 1ab</td>\n",
              "      <td>IC50</td>\n",
              "      <td>uM</td>\n",
              "      <td>8.8</td>\n",
              "    </tr>\n",
              "  </tbody>\n",
              "</table>\n",
              "<p>214 rows × 12 columns</p>\n",
              "</div>"
            ],
            "text/plain": [
              "                                      canonical_smiles molecule_chembl_id  \\\n",
              "0    CCOC(=O)/C=C/[C@H](C[C@@H]1CCNC1=O)NC(=O)[C@@H...       CHEMBL194398   \n",
              "1    CCOC(=O)/C=C/[C@H](C[C@@H]1CCNC1=O)NC(=O)[C@H]...       CHEMBL393608   \n",
              "2    CCOC(=O)/C=C/[C@H](C[C@@H]1CCNC1=O)NC(=O)[C@H]...       CHEMBL238216   \n",
              "3    CCOC(=O)/C=C/[C@H](C[C@@H]1CCNC1=O)NC(=O)[C@H]...       CHEMBL235873   \n",
              "4    CCOC(=O)/C=C/[C@H](C[C@@H]1CCNC1=O)NC(=O)[C@H]...       CHEMBL397154   \n",
              "..                                                 ...                ...   \n",
              "210  CC(C)C[C@H](NC(=O)OC1(Cc2ccccc2)CCN(S(C)(=O)=O...      CHEMBL4208764   \n",
              "211  CCC1(OC(=O)N[C@@H](CC(C)C)C(=O)N[C@H](C=O)C[C@...      CHEMBL4212620   \n",
              "212  CCC1(OC(=O)N[C@@H](CC(C)C)C(=O)N[C@@H](C[C@@H]...      CHEMBL4216101   \n",
              "213  CCOC(=O)N1CCC(OC(=O)N[C@@H](CC(C)C)C(=O)N[C@H]...      CHEMBL4217568   \n",
              "214  CCOC(=O)N1CCC(OC(=O)N[C@@H](CC(C)C)C(=O)N[C@@H...      CHEMBL4204431   \n",
              "\n",
              "    molecule_pref_name standard_type standard_units standard_value  \\\n",
              "0                 None          IC50             nM       870000.0   \n",
              "1                 None          IC50             nM       200000.0   \n",
              "2                 None          IC50             nM       300000.0   \n",
              "3                 None          IC50             nM        15000.0   \n",
              "4                 None          IC50             nM        10000.0   \n",
              "..                 ...           ...            ...            ...   \n",
              "210               None          IC50             nM         4300.0   \n",
              "211               None          IC50             nM         5500.0   \n",
              "212               None          IC50             nM         4100.0   \n",
              "213               None          IC50             nM         3200.0   \n",
              "214               None          IC50             nM         8800.0   \n",
              "\n",
              "    target_chembl_id   target_organism           target_pref_name  type units  \\\n",
              "0         CHEMBL5118  SARS coronavirus  Replicase polyprotein 1ab  IC50    uM   \n",
              "1         CHEMBL5118  SARS coronavirus  Replicase polyprotein 1ab  IC50    uM   \n",
              "2         CHEMBL5118  SARS coronavirus  Replicase polyprotein 1ab  IC50    uM   \n",
              "3         CHEMBL5118  SARS coronavirus  Replicase polyprotein 1ab  IC50    uM   \n",
              "4         CHEMBL5118  SARS coronavirus  Replicase polyprotein 1ab  IC50    uM   \n",
              "..               ...               ...                        ...   ...   ...   \n",
              "210       CHEMBL5118  SARS coronavirus  Replicase polyprotein 1ab  IC50    uM   \n",
              "211       CHEMBL5118  SARS coronavirus  Replicase polyprotein 1ab  IC50    uM   \n",
              "212       CHEMBL5118  SARS coronavirus  Replicase polyprotein 1ab  IC50    uM   \n",
              "213       CHEMBL5118  SARS coronavirus  Replicase polyprotein 1ab  IC50    uM   \n",
              "214       CHEMBL5118  SARS coronavirus  Replicase polyprotein 1ab  IC50    uM   \n",
              "\n",
              "     value  \n",
              "0    870.0  \n",
              "1    200.0  \n",
              "2    300.0  \n",
              "3     15.0  \n",
              "4     10.0  \n",
              "..     ...  \n",
              "210    4.3  \n",
              "211    5.5  \n",
              "212    4.1  \n",
              "213    3.2  \n",
              "214    8.8  \n",
              "\n",
              "[214 rows x 12 columns]"
            ]
          },
          "metadata": {
            "tags": []
          },
          "execution_count": 18
        }
      ]
    },
    {
      "cell_type": "code",
      "metadata": {
        "id": "Bsy8jxkd_bgC"
      },
      "source": [
        ""
      ],
      "execution_count": null,
      "outputs": []
    }
  ]
}