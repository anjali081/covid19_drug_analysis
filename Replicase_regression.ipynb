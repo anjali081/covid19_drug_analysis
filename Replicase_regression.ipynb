{
  "nbformat": 4,
  "nbformat_minor": 0,
  "metadata": {
    "kernelspec": {
      "display_name": "Python 3",
      "language": "python",
      "name": "python3"
    },
    "language_info": {
      "codemirror_mode": {
        "name": "ipython",
        "version": 3
      },
      "file_extension": ".py",
      "mimetype": "text/x-python",
      "name": "python",
      "nbconvert_exporter": "python",
      "pygments_lexer": "ipython3",
      "version": "3.6.12"
    },
    "colab": {
      "name": "Replicase_regression.ipynb",
      "provenance": [],
      "collapsed_sections": [
        "MT9IGOVsAKg2",
        "0VrlbCfLAKg3",
        "ev6gbNCdAKg3",
        "2KIghAEwAKg4",
        "mrnieBT2AKg4",
        "SE-V0CWjAKg5",
        "nhmzstGSAKg5",
        "ab9I8vFUAKg6",
        "H6sEsomQAKg7",
        "EwqXpbPYAKg7",
        "5MvmxX8XAKg7",
        "1N2JKbdlAKg8",
        "G_WYC5RdAKg8",
        "DoX2uga0AKg9",
        "0UZOYX__AKg-",
        "vxK7fpX0AKg-"
      ]
    }
  },
  "cells": [
    {
      "cell_type": "markdown",
      "metadata": {
        "id": "GJKzt4QdAKgx"
      },
      "source": [
        "## Importing the required libraries "
      ]
    },
    {
      "cell_type": "code",
      "metadata": {
        "id": "IKdERXhoAKgy"
      },
      "source": [
        "import pandas as pd\n",
        "from sklearn.preprocessing import StandardScaler\n",
        "from sklearn.preprocessing import MinMaxScaler\n",
        "import rdkit\n",
        "from rdkit import Chem\n",
        "from rdkit.Chem import Descriptors\n",
        "import numpy as np"
      ],
      "execution_count": null,
      "outputs": []
    },
    {
      "cell_type": "markdown",
      "metadata": {
        "id": "VP3qEkSqAKgz"
      },
      "source": [
        "### Loading the required Dataset"
      ]
    },
    {
      "cell_type": "code",
      "metadata": {
        "id": "O8Vr8XrzAKgz"
      },
      "source": [
        "data=pd.read_csv('replicase_final.csv')"
      ],
      "execution_count": null,
      "outputs": []
    },
    {
      "cell_type": "code",
      "metadata": {
        "id": "mUN8cmTEAKgz",
        "outputId": "0611c1a1-e0e6-422f-ea55-f4c8f584ea46"
      },
      "source": [
        "data.head()"
      ],
      "execution_count": null,
      "outputs": [
        {
          "output_type": "execute_result",
          "data": {
            "text/html": [
              "<div>\n",
              "<style scoped>\n",
              "    .dataframe tbody tr th:only-of-type {\n",
              "        vertical-align: middle;\n",
              "    }\n",
              "\n",
              "    .dataframe tbody tr th {\n",
              "        vertical-align: top;\n",
              "    }\n",
              "\n",
              "    .dataframe thead th {\n",
              "        text-align: right;\n",
              "    }\n",
              "</style>\n",
              "<table border=\"1\" class=\"dataframe\">\n",
              "  <thead>\n",
              "    <tr style=\"text-align: right;\">\n",
              "      <th></th>\n",
              "      <th>smiles</th>\n",
              "      <th>id</th>\n",
              "      <th>MW</th>\n",
              "      <th>LogP</th>\n",
              "      <th>HBD</th>\n",
              "      <th>HBA</th>\n",
              "      <th>PSA</th>\n",
              "      <th>pIC50</th>\n",
              "    </tr>\n",
              "  </thead>\n",
              "  <tbody>\n",
              "    <tr>\n",
              "      <th>0</th>\n",
              "      <td>CCOC(=O)/C=C/[C@H](C[C@@H]1CCNC1=O)NC(=O)[C@@H...</td>\n",
              "      <td>CHEMBL194398</td>\n",
              "      <td>580.682</td>\n",
              "      <td>2.68582</td>\n",
              "      <td>8.0</td>\n",
              "      <td>3.0</td>\n",
              "      <td>156.70</td>\n",
              "      <td>3.060481</td>\n",
              "    </tr>\n",
              "    <tr>\n",
              "      <th>1</th>\n",
              "      <td>CCOC(=O)/C=C/[C@H](C[C@@H]1CCNC1=O)NC(=O)[C@H]...</td>\n",
              "      <td>CHEMBL393608</td>\n",
              "      <td>547.653</td>\n",
              "      <td>1.39862</td>\n",
              "      <td>8.0</td>\n",
              "      <td>4.0</td>\n",
              "      <td>168.73</td>\n",
              "      <td>3.698970</td>\n",
              "    </tr>\n",
              "    <tr>\n",
              "      <th>2</th>\n",
              "      <td>CCOC(=O)/C=C/[C@H](C[C@@H]1CCNC1=O)NC(=O)[C@H]...</td>\n",
              "      <td>CHEMBL238216</td>\n",
              "      <td>581.670</td>\n",
              "      <td>1.59522</td>\n",
              "      <td>8.0</td>\n",
              "      <td>4.0</td>\n",
              "      <td>168.73</td>\n",
              "      <td>3.522879</td>\n",
              "    </tr>\n",
              "    <tr>\n",
              "      <th>3</th>\n",
              "      <td>CCOC(=O)/C=C/[C@H](C[C@@H]1CCNC1=O)NC(=O)[C@H]...</td>\n",
              "      <td>CHEMBL235873</td>\n",
              "      <td>659.781</td>\n",
              "      <td>0.87060</td>\n",
              "      <td>9.0</td>\n",
              "      <td>6.0</td>\n",
              "      <td>201.26</td>\n",
              "      <td>4.823909</td>\n",
              "    </tr>\n",
              "    <tr>\n",
              "      <th>4</th>\n",
              "      <td>CCOC(=O)/C=C/[C@H](C[C@@H]1CCNC1=O)NC(=O)[C@H]...</td>\n",
              "      <td>CHEMBL397154</td>\n",
              "      <td>625.764</td>\n",
              "      <td>0.67400</td>\n",
              "      <td>9.0</td>\n",
              "      <td>6.0</td>\n",
              "      <td>201.26</td>\n",
              "      <td>5.000000</td>\n",
              "    </tr>\n",
              "  </tbody>\n",
              "</table>\n",
              "</div>"
            ],
            "text/plain": [
              "                                              smiles            id       MW  \\\n",
              "0  CCOC(=O)/C=C/[C@H](C[C@@H]1CCNC1=O)NC(=O)[C@@H...  CHEMBL194398  580.682   \n",
              "1  CCOC(=O)/C=C/[C@H](C[C@@H]1CCNC1=O)NC(=O)[C@H]...  CHEMBL393608  547.653   \n",
              "2  CCOC(=O)/C=C/[C@H](C[C@@H]1CCNC1=O)NC(=O)[C@H]...  CHEMBL238216  581.670   \n",
              "3  CCOC(=O)/C=C/[C@H](C[C@@H]1CCNC1=O)NC(=O)[C@H]...  CHEMBL235873  659.781   \n",
              "4  CCOC(=O)/C=C/[C@H](C[C@@H]1CCNC1=O)NC(=O)[C@H]...  CHEMBL397154  625.764   \n",
              "\n",
              "      LogP  HBD  HBA     PSA     pIC50  \n",
              "0  2.68582  8.0  3.0  156.70  3.060481  \n",
              "1  1.39862  8.0  4.0  168.73  3.698970  \n",
              "2  1.59522  8.0  4.0  168.73  3.522879  \n",
              "3  0.87060  9.0  6.0  201.26  4.823909  \n",
              "4  0.67400  9.0  6.0  201.26  5.000000  "
            ]
          },
          "metadata": {
            "tags": []
          },
          "execution_count": 3
        }
      ]
    },
    {
      "cell_type": "markdown",
      "metadata": {
        "id": "xbzJyeaWAKgz"
      },
      "source": [
        "### *Creating a dataframe consisting of the features and bioactivity values*"
      ]
    },
    {
      "cell_type": "code",
      "metadata": {
        "id": "St-E7ARtAKg0"
      },
      "source": [
        "df_final=data.loc[:,['LogP','HBD','HBA','PSA','pIC50']]"
      ],
      "execution_count": null,
      "outputs": []
    },
    {
      "cell_type": "code",
      "metadata": {
        "id": "AeGzjEJ6AKg0",
        "outputId": "cdc72f30-b3bd-46d9-b377-53d678348a25"
      },
      "source": [
        "df_final=df_final.dropna()\n",
        "df_final.dtypes"
      ],
      "execution_count": null,
      "outputs": [
        {
          "output_type": "execute_result",
          "data": {
            "text/plain": [
              "LogP     float64\n",
              "HBD      float64\n",
              "HBA      float64\n",
              "PSA      float64\n",
              "pIC50    float64\n",
              "dtype: object"
            ]
          },
          "metadata": {
            "tags": []
          },
          "execution_count": 5
        }
      ]
    },
    {
      "cell_type": "code",
      "metadata": {
        "id": "6Npru-Q-AKg0"
      },
      "source": [
        "X=df_final.loc[:,['LogP','HBD','HBA','PSA']]\n",
        "val=X.values"
      ],
      "execution_count": null,
      "outputs": []
    },
    {
      "cell_type": "code",
      "metadata": {
        "id": "Cfhd3yGDAKg0"
      },
      "source": [
        "#scalar=StandardScaler()\n",
        "#Xn=scalar.fit_transform(val)\n",
        "#X=Xn"
      ],
      "execution_count": null,
      "outputs": []
    },
    {
      "cell_type": "markdown",
      "metadata": {
        "id": "R3EKFMu0AKg1"
      },
      "source": [
        "### Examining the Data Dimension"
      ]
    },
    {
      "cell_type": "code",
      "metadata": {
        "id": "iFCLhMygAKg1",
        "outputId": "28c229cb-7ae7-49f7-d6b6-1dff07378fa1"
      },
      "source": [
        "X.shape"
      ],
      "execution_count": null,
      "outputs": [
        {
          "output_type": "execute_result",
          "data": {
            "text/plain": [
              "(214, 4)"
            ]
          },
          "metadata": {
            "tags": []
          },
          "execution_count": 8
        }
      ]
    },
    {
      "cell_type": "markdown",
      "metadata": {
        "id": "6eLG9V0PAKg1"
      },
      "source": [
        "## Selecting the features and bioactivity values from the dataframe "
      ]
    },
    {
      "cell_type": "code",
      "metadata": {
        "id": "DHP9FaLcAKg1"
      },
      "source": [
        "x=X\n",
        "y=df_final.loc[:,'pIC50']\n"
      ],
      "execution_count": null,
      "outputs": []
    },
    {
      "cell_type": "markdown",
      "metadata": {
        "id": "z7jlLJlmAKg1"
      },
      "source": [
        "## Importing the library for splitting of dataset"
      ]
    },
    {
      "cell_type": "code",
      "metadata": {
        "id": "5HUHCm_NAKg1"
      },
      "source": [
        "from sklearn.model_selection import train_test_split\n"
      ],
      "execution_count": null,
      "outputs": []
    },
    {
      "cell_type": "markdown",
      "metadata": {
        "id": "05clG9vNAKg2"
      },
      "source": [
        "## Splitting the data"
      ]
    },
    {
      "cell_type": "code",
      "metadata": {
        "id": "GWptl9NPAKg2"
      },
      "source": [
        "X_train,X_test,y_train,y_test=train_test_split(x,y,test_size=0.2,random_state=12)"
      ],
      "execution_count": null,
      "outputs": []
    },
    {
      "cell_type": "markdown",
      "metadata": {
        "id": "MT9IGOVsAKg2"
      },
      "source": [
        "### Dimensions of the split"
      ]
    },
    {
      "cell_type": "code",
      "metadata": {
        "id": "ZsbGKvrbAKg2",
        "outputId": "2a7beb4f-7e34-4961-85b7-778733fb0c9d"
      },
      "source": [
        "print(X_train.shape)\n",
        "print(X_test.shape)\n",
        "print(y_train.shape)\n",
        "print(y_test.shape)"
      ],
      "execution_count": null,
      "outputs": [
        {
          "output_type": "stream",
          "text": [
            "(171, 4)\n",
            "(43, 4)\n",
            "(171,)\n",
            "(43,)\n"
          ],
          "name": "stdout"
        }
      ]
    },
    {
      "cell_type": "markdown",
      "metadata": {
        "id": "uQhSXsWhAKg2"
      },
      "source": [
        "# Building a Regression model using Random Forest Regressor"
      ]
    },
    {
      "cell_type": "code",
      "metadata": {
        "id": "d8PlAZfwAKg2"
      },
      "source": [
        "from sklearn.ensemble import RandomForestRegressor"
      ],
      "execution_count": null,
      "outputs": []
    },
    {
      "cell_type": "code",
      "metadata": {
        "id": "aM0zY5PDAKg3",
        "outputId": "3768eeea-523a-4ecb-8721-83a4724cbf08"
      },
      "source": [
        "reg1=RandomForestRegressor(random_state=6)\n",
        "reg1.fit(X_train,y_train)"
      ],
      "execution_count": null,
      "outputs": [
        {
          "output_type": "execute_result",
          "data": {
            "text/plain": [
              "RandomForestRegressor(random_state=6)"
            ]
          },
          "metadata": {
            "tags": []
          },
          "execution_count": 14
        }
      ]
    },
    {
      "cell_type": "markdown",
      "metadata": {
        "id": "0VrlbCfLAKg3"
      },
      "source": [
        "### Making the prediction"
      ]
    },
    {
      "cell_type": "code",
      "metadata": {
        "id": "R0ScaWVuAKg3"
      },
      "source": [
        "pred1=reg1.predict(X_test)"
      ],
      "execution_count": null,
      "outputs": []
    },
    {
      "cell_type": "code",
      "metadata": {
        "id": "rPWUPOKIAKg3",
        "outputId": "c675f022-f4c8-4d5a-8bef-e80939de73de"
      },
      "source": [
        "print(pred1)"
      ],
      "execution_count": null,
      "outputs": [
        {
          "output_type": "stream",
          "text": [
            "[4.17529217 4.63052712 4.39490426 4.63102476 5.0109366  5.2147451\n",
            " 4.7136415  5.46381402 4.30534517 4.58630278 4.72386571 3.50834372\n",
            " 4.29353572 4.99702572 4.8263311  4.46928565 4.3489152  5.45082302\n",
            " 3.65151579 5.32085667 4.89719984 4.90826617 5.01480302 5.50674206\n",
            " 5.20683544 4.52792345 4.8015088  4.35046282 4.81569721 4.477946\n",
            " 5.10837012 4.67426825 4.26049645 4.3489152  4.63941005 4.72386571\n",
            " 4.97721604 4.66143407 4.94115441 4.75569626 4.94170312 5.08721351\n",
            " 4.66811199]\n"
          ],
          "name": "stdout"
        }
      ]
    },
    {
      "cell_type": "markdown",
      "metadata": {
        "id": "ev6gbNCdAKg3"
      },
      "source": [
        "### Regression score"
      ]
    },
    {
      "cell_type": "code",
      "metadata": {
        "id": "leIdmE3lAKg3",
        "outputId": "8ef20917-7957-4993-eca5-b62c236a9626"
      },
      "source": [
        "print(reg1.score(X_train,y_train))"
      ],
      "execution_count": null,
      "outputs": [
        {
          "output_type": "stream",
          "text": [
            "0.7580771641412862\n"
          ],
          "name": "stdout"
        }
      ]
    },
    {
      "cell_type": "code",
      "metadata": {
        "id": "0rMnSxHVAKg4",
        "outputId": "b67fde5d-fdc6-4973-b982-6a796a4cbc5e"
      },
      "source": [
        "print(reg1.score(X_test,y_test))"
      ],
      "execution_count": null,
      "outputs": [
        {
          "output_type": "stream",
          "text": [
            "0.46463758770845276\n"
          ],
          "name": "stdout"
        }
      ]
    },
    {
      "cell_type": "markdown",
      "metadata": {
        "id": "2KIghAEwAKg4"
      },
      "source": [
        "### Importing libraries required for visualisation"
      ]
    },
    {
      "cell_type": "code",
      "metadata": {
        "id": "rxsanD6-AKg4"
      },
      "source": [
        "import seaborn as sns\n",
        "import matplotlib.pyplot as plt"
      ],
      "execution_count": null,
      "outputs": []
    },
    {
      "cell_type": "markdown",
      "metadata": {
        "id": "mrnieBT2AKg4"
      },
      "source": [
        "### Scatter plot of Predicted vs Experimental pIC50 values"
      ]
    },
    {
      "cell_type": "code",
      "metadata": {
        "id": "V6Nlm-EhAKg4",
        "outputId": "902f9522-6200-4e44-c23f-daf57694302c"
      },
      "source": [
        "plt.figure(figsize=(5.5, 5.5))\n",
        "sns.set(color_codes=True)\n",
        "sns.set_style(\"white\")\n",
        "sns.regplot(x=y_test,y=pred1)\n",
        "plt.xlabel(\"Experimental pIC50\")\n",
        "plt.ylabel(\"Predicted pIC50\")\n",
        "plt.title(\"Random Forest Regression\")\n",
        "plt.savefig('RandomForestRegression .png')\n",
        "plt.show()"
      ],
      "execution_count": null,
      "outputs": [
        {
          "output_type": "display_data",
          "data": {
            "image/png": "[encoded data removed]",
            "text/plain": [
              "<Figure size 396x396 with 1 Axes>"
            ]
          },
          "metadata": {
            "tags": []
          }
        }
      ]
    },
    {
      "cell_type": "markdown",
      "metadata": {
        "id": "2Aq2ktN2AKg4"
      },
      "source": [
        "# Building a Regresion model using DecisionTreeRegressor"
      ]
    },
    {
      "cell_type": "code",
      "metadata": {
        "id": "SoCE4s62AKg5"
      },
      "source": [
        "from sklearn.tree import DecisionTreeRegressor"
      ],
      "execution_count": null,
      "outputs": []
    },
    {
      "cell_type": "code",
      "metadata": {
        "id": "2EinjrI8AKg5"
      },
      "source": [
        "reg2=DecisionTreeRegressor(random_state=8)\n"
      ],
      "execution_count": null,
      "outputs": []
    },
    {
      "cell_type": "code",
      "metadata": {
        "id": "TPPKTJIDAKg5",
        "outputId": "c33863e4-97c2-49ca-af15-ad037aac11b2"
      },
      "source": [
        "reg2.fit(X_train,y_train)"
      ],
      "execution_count": null,
      "outputs": [
        {
          "output_type": "execute_result",
          "data": {
            "text/plain": [
              "DecisionTreeRegressor(random_state=8)"
            ]
          },
          "metadata": {
            "tags": []
          },
          "execution_count": 23
        }
      ]
    },
    {
      "cell_type": "markdown",
      "metadata": {
        "id": "SE-V0CWjAKg5"
      },
      "source": [
        "### Making the prediction "
      ]
    },
    {
      "cell_type": "code",
      "metadata": {
        "id": "CJTbSSpMAKg5"
      },
      "source": [
        "pred2=reg2.predict(X_test)"
      ],
      "execution_count": null,
      "outputs": []
    },
    {
      "cell_type": "code",
      "metadata": {
        "id": "xeXrWCP7AKg5",
        "outputId": "8a96e69b-fc04-4593-f6c1-cbdb2bfdf904"
      },
      "source": [
        "print(pred2)"
      ],
      "execution_count": null,
      "outputs": [
        {
          "output_type": "stream",
          "text": [
            "[4.         4.72815839 4.34969248 4.72952884 5.29242982 5.23657201\n",
            " 4.79317412 5.25963731 4.30103    4.54452568 4.61083392 3.06048075\n",
            " 4.30103    4.54060751 4.96657624 4.47643225 4.34628426 5.92811799\n",
            " 3.63189915 5.7721133  5.1739252  5.1739252  5.         5.92811799\n",
            " 5.7721133  4.39794001 4.61083392 3.81734073 3.87942607 4.08139308\n",
            " 5.32790214 3.88974708 4.11237687 4.34628426 4.60302035 4.61083392\n",
            " 5.16749109 4.72815839 5.         5.08092191 5.         5.91604609\n",
            " 4.61083392]\n"
          ],
          "name": "stdout"
        }
      ]
    },
    {
      "cell_type": "markdown",
      "metadata": {
        "id": "nhmzstGSAKg5"
      },
      "source": [
        "### Regression score"
      ]
    },
    {
      "cell_type": "code",
      "metadata": {
        "id": "9Nro5HrKAKg5",
        "outputId": "63db59f7-e761-4614-c52e-0b61c8577aec"
      },
      "source": [
        "print(reg2.score(X_train,y_train))"
      ],
      "execution_count": null,
      "outputs": [
        {
          "output_type": "stream",
          "text": [
            "0.8261717925262759\n"
          ],
          "name": "stdout"
        }
      ]
    },
    {
      "cell_type": "code",
      "metadata": {
        "id": "ssFIkPCbAKg6",
        "outputId": "9ae7e3af-1624-4dba-b1f5-b50a2a55d648"
      },
      "source": [
        "reg2.score(X_test,y_test)"
      ],
      "execution_count": null,
      "outputs": [
        {
          "output_type": "execute_result",
          "data": {
            "text/plain": [
              "-0.006287020666483123"
            ]
          },
          "metadata": {
            "tags": []
          },
          "execution_count": 27
        }
      ]
    },
    {
      "cell_type": "markdown",
      "metadata": {
        "id": "ab9I8vFUAKg6"
      },
      "source": [
        "### Scatter plot of Predicted vs Experiemental pIC50 values"
      ]
    },
    {
      "cell_type": "code",
      "metadata": {
        "id": "mfe_Q6_cAKg6",
        "outputId": "b876a183-3128-415b-fd4c-70f2dd323ae1"
      },
      "source": [
        "plt.figure(figsize=(5.5, 5.5))\n",
        "sns.set(color_codes=True)\n",
        "sns.set_style(\"white\")\n",
        "sns.regplot(x=y_test,y=pred2)\n",
        "plt.xlabel(\"Experimental pIC50\")\n",
        "plt.ylabel(\"Predicted pIC50\")\n",
        "plt.title(\"DecisionTree Regression\")\n",
        "plt.savefig('DecisonTreeRegression.png')\n",
        "plt.show()"
      ],
      "execution_count": null,
      "outputs": [
        {
          "output_type": "display_data",
          "data": {
            "image/png": "[encoded data removed]",
            "text/plain": [
              "<Figure size 396x396 with 1 Axes>"
            ]
          },
          "metadata": {
            "tags": []
          }
        }
      ]
    },
    {
      "cell_type": "markdown",
      "metadata": {
        "id": "lppzqtljAKg6"
      },
      "source": [
        "# Building a Regression model using LinearRegression"
      ]
    },
    {
      "cell_type": "code",
      "metadata": {
        "id": "pnriYvrTAKg6"
      },
      "source": [
        "from sklearn.linear_model import LinearRegression"
      ],
      "execution_count": null,
      "outputs": []
    },
    {
      "cell_type": "code",
      "metadata": {
        "id": "m187xl3aAKg6"
      },
      "source": [
        "reg3=LinearRegression()"
      ],
      "execution_count": null,
      "outputs": []
    },
    {
      "cell_type": "code",
      "metadata": {
        "id": "vyYZcQH7AKg7",
        "outputId": "c0518596-1153-4a19-8edd-13b854f01d36"
      },
      "source": [
        "reg3.fit(X_train,y_train)"
      ],
      "execution_count": null,
      "outputs": [
        {
          "output_type": "execute_result",
          "data": {
            "text/plain": [
              "LinearRegression()"
            ]
          },
          "metadata": {
            "tags": []
          },
          "execution_count": 31
        }
      ]
    },
    {
      "cell_type": "markdown",
      "metadata": {
        "id": "H6sEsomQAKg7"
      },
      "source": [
        "### Making the prediction"
      ]
    },
    {
      "cell_type": "code",
      "metadata": {
        "id": "rSSs829BAKg7"
      },
      "source": [
        "pred3=reg3.predict(X_test)"
      ],
      "execution_count": null,
      "outputs": []
    },
    {
      "cell_type": "code",
      "metadata": {
        "id": "acE2Gp0KAKg7",
        "outputId": "b2b3145a-f694-44b0-9d06-e468c1660934"
      },
      "source": [
        "print(pred3)"
      ],
      "execution_count": null,
      "outputs": [
        {
          "output_type": "stream",
          "text": [
            "[4.6559796  4.61762378 4.82529232 4.73502687 4.72966988 4.8133553\n",
            " 4.64895497 4.73578194 4.51196742 4.64866928 4.29397234 4.76441405\n",
            " 4.4712008  4.66713333 4.70265597 4.61419057 4.59543456 4.69752976\n",
            " 4.46681566 4.70459125 4.78110782 4.78510072 4.6629779  4.63590148\n",
            " 4.735547   4.62746361 4.54758947 4.42796541 4.7298082  4.75787551\n",
            " 4.77571138 4.70421655 4.52534682 4.59543456 4.71450015 4.29397234\n",
            " 4.68389996 4.78494154 4.58016977 4.49736923 4.53910839 4.50913609\n",
            " 4.54795485]\n"
          ],
          "name": "stdout"
        }
      ]
    },
    {
      "cell_type": "markdown",
      "metadata": {
        "id": "EwqXpbPYAKg7"
      },
      "source": [
        "### Regression score "
      ]
    },
    {
      "cell_type": "code",
      "metadata": {
        "id": "WUEZoCK3AKg7",
        "outputId": "e53d7090-c389-4c8f-d673-fc22fbfc67c4"
      },
      "source": [
        "print(reg3.score(X_train,y_train))\n",
        "print(reg3.score(X_test,y_test))"
      ],
      "execution_count": null,
      "outputs": [
        {
          "output_type": "stream",
          "text": [
            "0.03182179707690069\n",
            "-0.049371395753075475\n"
          ],
          "name": "stdout"
        }
      ]
    },
    {
      "cell_type": "markdown",
      "metadata": {
        "id": "5MvmxX8XAKg7"
      },
      "source": [
        "### Scatter plot of Predicted vs Experimental pIC50 values "
      ]
    },
    {
      "cell_type": "code",
      "metadata": {
        "id": "mQ7bph5aAKg8",
        "outputId": "b41b24ac-f16f-4eb2-ab3a-5a32c4b1f9cb"
      },
      "source": [
        "plt.figure(figsize=(5.5, 5.5))\n",
        "sns.set(color_codes=True)\n",
        "sns.set_style(\"white\")\n",
        "sns.regplot(x=y_test,y=pred3)\n",
        "plt.xlabel(\"Experimental pIC50\")\n",
        "plt.ylabel(\"Predicted pIC50\")\n",
        "plt.title(\"Linear Regression\")\n",
        "plt.savefig('LinearRegression.png')\n",
        "plt.show()"
      ],
      "execution_count": null,
      "outputs": [
        {
          "output_type": "display_data",
          "data": {
            "image/png": "[encoded data removed]",
            "text/plain": [
              "<Figure size 396x396 with 1 Axes>"
            ]
          },
          "metadata": {
            "tags": []
          }
        }
      ]
    },
    {
      "cell_type": "markdown",
      "metadata": {
        "id": "2vEtw0TQAKg8"
      },
      "source": [
        "# Building a Regression model using KNeighborsRegressor"
      ]
    },
    {
      "cell_type": "code",
      "metadata": {
        "id": "uxUKYJ3sAKg8"
      },
      "source": [
        "from sklearn.neighbors import KNeighborsRegressor"
      ],
      "execution_count": null,
      "outputs": []
    },
    {
      "cell_type": "code",
      "metadata": {
        "id": "tYmcXltzAKg8",
        "outputId": "374f6c61-0d9e-45a3-8c49-a7ae950ebe54"
      },
      "source": [
        "reg4=KNeighborsRegressor()\n",
        "reg4.fit(X_train,y_train)"
      ],
      "execution_count": null,
      "outputs": [
        {
          "output_type": "execute_result",
          "data": {
            "text/plain": [
              "KNeighborsRegressor()"
            ]
          },
          "metadata": {
            "tags": []
          },
          "execution_count": 37
        }
      ]
    },
    {
      "cell_type": "markdown",
      "metadata": {
        "id": "1N2JKbdlAKg8"
      },
      "source": [
        "### Making the prediction"
      ]
    },
    {
      "cell_type": "code",
      "metadata": {
        "id": "nyWhM4ekAKg8"
      },
      "source": [
        "pred4=reg4.predict(X_test)"
      ],
      "execution_count": null,
      "outputs": []
    },
    {
      "cell_type": "markdown",
      "metadata": {
        "id": "G_WYC5RdAKg8"
      },
      "source": [
        "### Regression score "
      ]
    },
    {
      "cell_type": "code",
      "metadata": {
        "id": "GnWjiBOmAKg9",
        "outputId": "d5760848-5cc4-4f45-f8dc-69aa065082a9"
      },
      "source": [
        "print(reg4.score(X_train,y_train))\n",
        "print(reg4.score(X_test,y_test))"
      ],
      "execution_count": null,
      "outputs": [
        {
          "output_type": "stream",
          "text": [
            "0.2878123211990473\n",
            "-0.04243553138424638\n"
          ],
          "name": "stdout"
        }
      ]
    },
    {
      "cell_type": "markdown",
      "metadata": {
        "id": "DoX2uga0AKg9"
      },
      "source": [
        "### Scatter plot of Predicted vs Experimental pIC50 values "
      ]
    },
    {
      "cell_type": "code",
      "metadata": {
        "id": "nFDqQKFKAKg9",
        "outputId": "400a6644-ec70-4caf-aed5-b5ae27b40542"
      },
      "source": [
        "plt.figure(figsize=(5.5, 5.5))\n",
        "sns.set(color_codes=True)\n",
        "sns.set_style(\"white\")\n",
        "sns.regplot(x=y_test,y=pred4)\n",
        "plt.xlabel(\"Experimental pIC50\")\n",
        "plt.ylabel(\"Predicted pIC50\")\n",
        "plt.title(\"KNN Regression\")\n",
        "plt.savefig('KNNRegression.png')\n",
        "plt.show()"
      ],
      "execution_count": null,
      "outputs": [
        {
          "output_type": "display_data",
          "data": {
            "image/png": "[encoded data removed]",
            "text/plain": [
              "<Figure size 396x396 with 1 Axes>"
            ]
          },
          "metadata": {
            "tags": []
          }
        }
      ]
    },
    {
      "cell_type": "markdown",
      "metadata": {
        "id": "A4Ohy8qLAKg9"
      },
      "source": [
        "# Building a Regression model using SVR"
      ]
    },
    {
      "cell_type": "code",
      "metadata": {
        "id": "ud1R-HJ4AKg9"
      },
      "source": [
        "from sklearn.svm import SVR"
      ],
      "execution_count": null,
      "outputs": []
    },
    {
      "cell_type": "code",
      "metadata": {
        "id": "3Hq-wbHEAKg9",
        "outputId": "2838a083-c513-4a71-d1fe-0e74b04dfac5"
      },
      "source": [
        "reg5=SVR()\n",
        "reg5.fit(X_train,y_train)"
      ],
      "execution_count": null,
      "outputs": [
        {
          "output_type": "execute_result",
          "data": {
            "text/plain": [
              "SVR()"
            ]
          },
          "metadata": {
            "tags": []
          },
          "execution_count": 42
        }
      ]
    },
    {
      "cell_type": "code",
      "metadata": {
        "id": "pX1LvUalAKg-"
      },
      "source": [
        "pred5=reg5.predict(X_test)"
      ],
      "execution_count": null,
      "outputs": []
    },
    {
      "cell_type": "code",
      "metadata": {
        "id": "vOYEynx3AKg-",
        "outputId": "81dbc633-0fef-4723-e787-3d22635f71e1"
      },
      "source": [
        "print(pred5)"
      ],
      "execution_count": null,
      "outputs": [
        {
          "output_type": "stream",
          "text": [
            "[4.47928048 4.51375411 4.48919936 4.48787683 4.55395385 4.49771912\n",
            " 4.47672467 4.49358144 4.47708158 4.47436302 4.49422803 4.49621473\n",
            " 4.47915429 4.49463262 4.5158743  4.48416359 4.4825408  4.49728243\n",
            " 4.63616833 4.49794816 4.49469785 4.49506849 4.86090846 4.48132507\n",
            " 4.50090522 4.47260219 4.64234836 4.48233064 4.51682265 4.48636809\n",
            " 4.50483365 4.61676196 4.50366191 4.4825408  4.48866318 4.49422803\n",
            " 4.5139009  4.4843485  4.89968362 4.46887279 4.87753469 4.71603568\n",
            " 4.66109718]\n"
          ],
          "name": "stdout"
        }
      ]
    },
    {
      "cell_type": "markdown",
      "metadata": {
        "id": "0UZOYX__AKg-"
      },
      "source": [
        "### Regression Score"
      ]
    },
    {
      "cell_type": "code",
      "metadata": {
        "id": "mZDgOozkAKg-",
        "outputId": "d1698627-e74d-43f8-b5b9-0c68d1bd7f6c"
      },
      "source": [
        "print(reg5.score(X_train,y_train))\n",
        "print(reg5.score(X_test,y_test))"
      ],
      "execution_count": null,
      "outputs": [
        {
          "output_type": "stream",
          "text": [
            "0.006602342791576565\n",
            "-0.13173993783291627\n"
          ],
          "name": "stdout"
        }
      ]
    },
    {
      "cell_type": "markdown",
      "metadata": {
        "id": "vxK7fpX0AKg-"
      },
      "source": [
        "### Scatter plot of Predicted vs Experimental pIC50 values "
      ]
    },
    {
      "cell_type": "code",
      "metadata": {
        "id": "XH3m1J0MAKg-",
        "outputId": "c3e3f5e6-1d55-41c2-9f4d-2162f5d76bf4"
      },
      "source": [
        "plt.figure(figsize=(5.5, 5.5))\n",
        "sns.set(color_codes=True)\n",
        "sns.set_style(\"white\")\n",
        "sns.regplot(x=y_test,y=pred5)\n",
        "plt.xlabel(\"Experimental pIC50\")\n",
        "plt.ylabel(\"Predicted pIC50\")\n",
        "plt.title(\"SVR Regression\")\n",
        "plt.savefig('SVRRegression.png')\n",
        "plt.show()"
      ],
      "execution_count": null,
      "outputs": [
        {
          "output_type": "display_data",
          "data": {
            "image/png": "[encoded data removed]",
            "text/plain": [
              "<Figure size 396x396 with 1 Axes>"
            ]
          },
          "metadata": {
            "tags": []
          }
        }
      ]
    },
    {
      "cell_type": "code",
      "metadata": {
        "id": "-jzEgHB2AKg_"
      },
      "source": [
        ""
      ],
      "execution_count": null,
      "outputs": []
    }
  ]
}